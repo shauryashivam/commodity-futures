{
 "cells": [
  {
   "cell_type": "code",
   "execution_count": 177,
   "metadata": {
    "id": "At0qq6bzsVVk"
   },
   "outputs": [],
   "source": [
    "import numpy as np\n",
    "import pandas as pd\n",
    "import matplotlib.pyplot as plt\n",
    "import tensorflow as tf\n",
    "from sklearn.model_selection import train_test_split\n"
   ]
  },
  {
   "cell_type": "code",
   "execution_count": 178,
   "metadata": {
    "id": "J9HwTbblmbfo"
   },
   "outputs": [],
   "source": [
    "# Import required libraries\n",
    "import pandas as pd\n",
    "import numpy as np\n",
    "from pandas.plotting import lag_plot\n",
    "from pandas.plotting import autocorrelation_plot\n",
    "from matplotlib import pyplot\n",
    "from statsmodels.tsa.seasonal import seasonal_decompose\n",
    "from statsmodels.tsa.stattools import adfuller\n",
    "import math as math\n",
    "from scipy.stats import boxcox\n",
    "from random import randrange\n",
    "from random import seed\n",
    "from random import random\n",
    "from random import gauss"
   ]
  },
  {
   "cell_type": "code",
   "execution_count": 179,
   "metadata": {
    "id": "66tOYdNmsiDZ"
   },
   "outputs": [],
   "source": [
    "df = pd.read_csv(\"https://raw.githubusercontent.com/shauryashivam/commodity-futures/main/Dataset/Gold15.csv?token=AMF2Z3P6KZHZIIIEYQVYHJDARWXZK\",header=0, index_col=0, parse_dates=True,\n",
    "squeeze=True)"
   ]
  },
  {
   "cell_type": "code",
   "execution_count": 180,
   "metadata": {
    "id": "RJDwoCmUn_Qt"
   },
   "outputs": [],
   "source": [
    "df.drop(columns=['Open','High','Low','Adj Close','Volume'],axis=1,inplace=True)"
   ]
  },
  {
   "cell_type": "code",
   "execution_count": 181,
   "metadata": {
    "colab": {
     "base_uri": "https://localhost:8080/",
     "height": 227
    },
    "id": "-NT7e0NmstC-",
    "outputId": "64406e15-228c-44bc-9bcf-f7f5025a3ca7"
   },
   "outputs": [
    {
     "data": {
      "text/html": [
       "<div>\n",
       "<style scoped>\n",
       "    .dataframe tbody tr th:only-of-type {\n",
       "        vertical-align: middle;\n",
       "    }\n",
       "\n",
       "    .dataframe tbody tr th {\n",
       "        vertical-align: top;\n",
       "    }\n",
       "\n",
       "    .dataframe thead th {\n",
       "        text-align: right;\n",
       "    }\n",
       "</style>\n",
       "<table border=\"1\" class=\"dataframe\">\n",
       "  <thead>\n",
       "    <tr style=\"text-align: right;\">\n",
       "      <th></th>\n",
       "      <th>Close</th>\n",
       "    </tr>\n",
       "    <tr>\n",
       "      <th>Date</th>\n",
       "      <th></th>\n",
       "    </tr>\n",
       "  </thead>\n",
       "  <tbody>\n",
       "    <tr>\n",
       "      <th>2006-01-03</th>\n",
       "      <td>530.700012</td>\n",
       "    </tr>\n",
       "    <tr>\n",
       "      <th>2006-01-04</th>\n",
       "      <td>533.900024</td>\n",
       "    </tr>\n",
       "    <tr>\n",
       "      <th>2006-01-05</th>\n",
       "      <td>526.299988</td>\n",
       "    </tr>\n",
       "    <tr>\n",
       "      <th>2006-01-06</th>\n",
       "      <td>539.700012</td>\n",
       "    </tr>\n",
       "    <tr>\n",
       "      <th>2006-01-09</th>\n",
       "      <td>549.099976</td>\n",
       "    </tr>\n",
       "  </tbody>\n",
       "</table>\n",
       "</div>"
      ],
      "text/plain": [
       "                 Close\n",
       "Date                  \n",
       "2006-01-03  530.700012\n",
       "2006-01-04  533.900024\n",
       "2006-01-05  526.299988\n",
       "2006-01-06  539.700012\n",
       "2006-01-09  549.099976"
      ]
     },
     "execution_count": 181,
     "metadata": {
      "tags": []
     },
     "output_type": "execute_result"
    }
   ],
   "source": [
    "df.head()"
   ]
  },
  {
   "cell_type": "code",
   "execution_count": 182,
   "metadata": {
    "colab": {
     "base_uri": "https://localhost:8080/",
     "height": 287
    },
    "id": "7T0ysN1wnH1s",
    "outputId": "e1421cae-09eb-49c1-8545-afe0f0771c9d"
   },
   "outputs": [
    {
     "data": {
      "text/html": [
       "<div>\n",
       "<style scoped>\n",
       "    .dataframe tbody tr th:only-of-type {\n",
       "        vertical-align: middle;\n",
       "    }\n",
       "\n",
       "    .dataframe tbody tr th {\n",
       "        vertical-align: top;\n",
       "    }\n",
       "\n",
       "    .dataframe thead th {\n",
       "        text-align: right;\n",
       "    }\n",
       "</style>\n",
       "<table border=\"1\" class=\"dataframe\">\n",
       "  <thead>\n",
       "    <tr style=\"text-align: right;\">\n",
       "      <th></th>\n",
       "      <th>Close</th>\n",
       "    </tr>\n",
       "  </thead>\n",
       "  <tbody>\n",
       "    <tr>\n",
       "      <th>count</th>\n",
       "      <td>3742.000000</td>\n",
       "    </tr>\n",
       "    <tr>\n",
       "      <th>mean</th>\n",
       "      <td>1225.928113</td>\n",
       "    </tr>\n",
       "    <tr>\n",
       "      <th>std</th>\n",
       "      <td>332.620013</td>\n",
       "    </tr>\n",
       "    <tr>\n",
       "      <th>min</th>\n",
       "      <td>526.299988</td>\n",
       "    </tr>\n",
       "    <tr>\n",
       "      <th>25%</th>\n",
       "      <td>1014.825012</td>\n",
       "    </tr>\n",
       "    <tr>\n",
       "      <th>50%</th>\n",
       "      <td>1252.750000</td>\n",
       "    </tr>\n",
       "    <tr>\n",
       "      <th>75%</th>\n",
       "      <td>1405.549988</td>\n",
       "    </tr>\n",
       "    <tr>\n",
       "      <th>max</th>\n",
       "      <td>2051.500000</td>\n",
       "    </tr>\n",
       "  </tbody>\n",
       "</table>\n",
       "</div>"
      ],
      "text/plain": [
       "             Close\n",
       "count  3742.000000\n",
       "mean   1225.928113\n",
       "std     332.620013\n",
       "min     526.299988\n",
       "25%    1014.825012\n",
       "50%    1252.750000\n",
       "75%    1405.549988\n",
       "max    2051.500000"
      ]
     },
     "execution_count": 182,
     "metadata": {
      "tags": []
     },
     "output_type": "execute_result"
    }
   ],
   "source": [
    "df.describe()"
   ]
  },
  {
   "cell_type": "markdown",
   "metadata": {
    "id": "PRnvAC7zpZyb"
   },
   "source": [
    "# Single Lag"
   ]
  },
  {
   "cell_type": "code",
   "execution_count": 183,
   "metadata": {
    "colab": {
     "base_uri": "https://localhost:8080/"
    },
    "id": "GwfsXTh_nZB9",
    "outputId": "4b68d04b-9bcf-40ec-f37a-e722924b5e95"
   },
   "outputs": [
    {
     "name": "stdout",
     "output_type": "stream",
     "text": [
      "            t         t+1\n",
      "0         NaN  530.700012\n",
      "1  530.700012  533.900024\n",
      "2  533.900024  526.299988\n",
      "3  526.299988  539.700012\n",
      "4  539.700012  549.099976\n"
     ]
    }
   ],
   "source": [
    "var = pd.DataFrame(df.values)\n",
    "dataframe = pd.concat([var.shift(1), var], axis=1)\n",
    "dataframe.columns = ['t', 't+1']\n",
    "print(dataframe.head(5))"
   ]
  },
  {
   "cell_type": "code",
   "execution_count": 184,
   "metadata": {
    "colab": {
     "base_uri": "https://localhost:8080/"
    },
    "id": "Qu5LDhvCpY7W",
    "outputId": "04ee0f28-c1c2-4d73-86c4-dceb964e9cc3"
   },
   "outputs": [
    {
     "name": "stdout",
     "output_type": "stream",
     "text": [
      "          t-2         t-1           t         t+1\n",
      "0         NaN         NaN         NaN  530.700012\n",
      "1         NaN         NaN  530.700012  533.900024\n",
      "2         NaN  530.700012  533.900024  526.299988\n",
      "3  530.700012  533.900024  526.299988  539.700012\n",
      "4  533.900024  526.299988  539.700012  549.099976\n"
     ]
    }
   ],
   "source": [
    "var = pd.DataFrame(df.values)\n",
    "dataframe = pd.concat([var.shift(3), var.shift(2), var.shift(1), var], axis=1)\n",
    "dataframe.columns = ['t-2', 't-1', 't', 't+1']\n",
    "print(dataframe.head(5))"
   ]
  },
  {
   "cell_type": "code",
   "execution_count": 185,
   "metadata": {
    "colab": {
     "base_uri": "https://localhost:8080/"
    },
    "id": "rL8fCiCbpo6H",
    "outputId": "b944983b-100a-4bfa-9d77-cbf3254ea4d5"
   },
   "outputs": [
    {
     "name": "stdout",
     "output_type": "stream",
     "text": [
      "   mean(t-1,t)         t+1\n",
      "0          NaN  530.700012\n",
      "1          NaN  533.900024\n",
      "2   532.300018  526.299988\n",
      "3   530.100006  539.700012\n",
      "4   533.000000  549.099976\n"
     ]
    }
   ],
   "source": [
    "var = pd.DataFrame(df.values)\n",
    "shifted = var.shift(1)\n",
    "window = shifted.rolling(window=2)\n",
    "means = window.mean()\n",
    "dataframe = pd.concat([means, var], axis=1)\n",
    "dataframe.columns = ['mean(t-1,t)', 't+1']\n",
    "print(dataframe.head(5))"
   ]
  },
  {
   "cell_type": "code",
   "execution_count": 186,
   "metadata": {
    "colab": {
     "base_uri": "https://localhost:8080/"
    },
    "id": "puv-foOxpuIK",
    "outputId": "58b26b73-3be6-4cb5-eaca-2c2028a63072"
   },
   "outputs": [
    {
     "name": "stdout",
     "output_type": "stream",
     "text": [
      "          min        mean         max         t+1\n",
      "0  530.700012  530.700012  530.700012  533.900024\n",
      "1  530.700012  532.300018  533.900024  526.299988\n",
      "2  526.299988  530.300008  533.900024  539.700012\n",
      "3  526.299988  532.650009  539.700012  549.099976\n",
      "4  526.299988  535.940002  549.099976  544.299988\n"
     ]
    }
   ],
   "source": [
    "var = pd.DataFrame(df.values)\n",
    "window = var.expanding()\n",
    "dataframe = pd.concat([window.min(), window.mean(), window.max(), var.shift(-1)], axis=1)\n",
    "dataframe.columns = ['min', 'mean', 'max', 't+1']\n",
    "print(dataframe.head(5))"
   ]
  },
  {
   "cell_type": "code",
   "execution_count": 187,
   "metadata": {
    "colab": {
     "base_uri": "https://localhost:8080/"
    },
    "id": "XhzI7lOvp5LE",
    "outputId": "e3e3a8b2-d36b-4df1-a58c-331b2984e85a"
   },
   "outputs": [
    {
     "name": "stdout",
     "output_type": "stream",
     "text": [
      "   month  day                                              Close\n",
      "0      1    3  Date\n",
      "2006-01-03     530.700012\n",
      "2006-01-04     ...\n",
      "1      1    4  Date\n",
      "2006-01-03     530.700012\n",
      "2006-01-04     ...\n",
      "2      1    5  Date\n",
      "2006-01-03     530.700012\n",
      "2006-01-04     ...\n",
      "3      1    6  Date\n",
      "2006-01-03     530.700012\n",
      "2006-01-04     ...\n",
      "4      1    9  Date\n",
      "2006-01-03     530.700012\n",
      "2006-01-04     ...\n"
     ]
    }
   ],
   "source": [
    "dataframe = pd.DataFrame()\n",
    "dataframe['month'] = [df.index[i].month for i in range(len(df))]\n",
    "dataframe['day'] = [df.index[i].day for i in range(len(df))]\n",
    "dataframe['Close'] = [df['Close'] for i in range(len(df))]\n",
    "print(dataframe.head(5))"
   ]
  },
  {
   "cell_type": "code",
   "execution_count": 188,
   "metadata": {
    "colab": {
     "base_uri": "https://localhost:8080/",
     "height": 335
    },
    "id": "4RoTbcFLqh4v",
    "outputId": "4f28a336-2a06-4f90-9d85-dd2ad657631a"
   },
   "outputs": [
    {
     "data": {
      "text/plain": [
       "<matplotlib.axes._subplots.AxesSubplot at 0x7f0a478ffd50>"
      ]
     },
     "execution_count": 188,
     "metadata": {
      "tags": []
     },
     "output_type": "execute_result"
    },
    {
     "data": {
      "image/png": "[encoded data removed]",
      "text/plain": [
       "<Figure size 1080x360 with 1 Axes>"
      ]
     },
     "metadata": {
      "needs_background": "light",
      "tags": []
     },
     "output_type": "display_data"
    }
   ],
   "source": [
    "\n",
    "df.plot(figsize=(15,5))\n"
   ]
  },
  {
   "cell_type": "code",
   "execution_count": 189,
   "metadata": {
    "colab": {
     "base_uri": "https://localhost:8080/",
     "height": 337
    },
    "id": "4AEniQF7qu1U",
    "outputId": "f95c7152-4ecf-4b1e-fa51-fa6959128677"
   },
   "outputs": [
    {
     "name": "stderr",
     "output_type": "stream",
     "text": [
      "/usr/local/lib/python3.7/dist-packages/seaborn/distributions.py:2557: FutureWarning: `distplot` is a deprecated function and will be removed in a future version. Please adapt your code to use either `displot` (a figure-level function with similar flexibility) or `histplot` (an axes-level function for histograms).\n",
      "  warnings.warn(msg, FutureWarning)\n"
     ]
    },
    {
     "data": {
      "text/plain": [
       "<matplotlib.axes._subplots.AxesSubplot at 0x7f0a46538dd0>"
      ]
     },
     "execution_count": 189,
     "metadata": {
      "tags": []
     },
     "output_type": "execute_result"
    },
    {
     "data": {
      "image/png": "[encoded data removed]",
      "text/plain": [
       "<Figure size 432x288 with 1 Axes>"
      ]
     },
     "metadata": {
      "needs_background": "light",
      "tags": []
     },
     "output_type": "display_data"
    }
   ],
   "source": [
    "import seaborn as sns\n",
    "sns.distplot(df, hist=True, kde=True,\n",
    "             bins=20,              \n",
    "             color = 'blue', \n",
    "             hist_kws={'edgecolor':'black'},\n",
    "             kde_kws={'linewidth': 2})\n"
   ]
  },
  {
   "cell_type": "code",
   "execution_count": 190,
   "metadata": {
    "colab": {
     "base_uri": "https://localhost:8080/",
     "height": 227
    },
    "id": "9BohYt_7rFix",
    "outputId": "ffee43b8-7941-4e3a-b940-335e0c7ea98d"
   },
   "outputs": [
    {
     "data": {
      "text/html": [
       "<div>\n",
       "<style scoped>\n",
       "    .dataframe tbody tr th:only-of-type {\n",
       "        vertical-align: middle;\n",
       "    }\n",
       "\n",
       "    .dataframe tbody tr th {\n",
       "        vertical-align: top;\n",
       "    }\n",
       "\n",
       "    .dataframe thead th {\n",
       "        text-align: right;\n",
       "    }\n",
       "</style>\n",
       "<table border=\"1\" class=\"dataframe\">\n",
       "  <thead>\n",
       "    <tr style=\"text-align: right;\">\n",
       "      <th></th>\n",
       "      <th>Close</th>\n",
       "    </tr>\n",
       "    <tr>\n",
       "      <th>Date</th>\n",
       "      <th></th>\n",
       "    </tr>\n",
       "  </thead>\n",
       "  <tbody>\n",
       "    <tr>\n",
       "      <th>2006-01-03</th>\n",
       "      <td>530.700012</td>\n",
       "    </tr>\n",
       "    <tr>\n",
       "      <th>2006-01-04</th>\n",
       "      <td>533.900024</td>\n",
       "    </tr>\n",
       "    <tr>\n",
       "      <th>2006-01-05</th>\n",
       "      <td>526.299988</td>\n",
       "    </tr>\n",
       "    <tr>\n",
       "      <th>2006-01-06</th>\n",
       "      <td>539.700012</td>\n",
       "    </tr>\n",
       "    <tr>\n",
       "      <th>2006-01-09</th>\n",
       "      <td>549.099976</td>\n",
       "    </tr>\n",
       "  </tbody>\n",
       "</table>\n",
       "</div>"
      ],
      "text/plain": [
       "                 Close\n",
       "Date                  \n",
       "2006-01-03  530.700012\n",
       "2006-01-04  533.900024\n",
       "2006-01-05  526.299988\n",
       "2006-01-06  539.700012\n",
       "2006-01-09  549.099976"
      ]
     },
     "execution_count": 190,
     "metadata": {
      "tags": []
     },
     "output_type": "execute_result"
    }
   ],
   "source": [
    "df.head(\n",
    ")"
   ]
  },
  {
   "cell_type": "code",
   "execution_count": 191,
   "metadata": {
    "colab": {
     "base_uri": "https://localhost:8080/",
     "height": 278
    },
    "id": "nFDl9Yn7rVhG",
    "outputId": "cb25050e-aa12-4565-cc51-82dcd536b4e4"
   },
   "outputs": [
    {
     "data": {
      "image/png": "[encoded data removed]",
      "text/plain": [
       "<Figure size 432x288 with 1 Axes>"
      ]
     },
     "metadata": {
      "needs_background": "light",
      "tags": []
     },
     "output_type": "display_data"
    }
   ],
   "source": [
    "lag_plot(df)\n",
    "pyplot.show()"
   ]
  },
  {
   "cell_type": "code",
   "execution_count": 192,
   "metadata": {
    "colab": {
     "base_uri": "https://localhost:8080/",
     "height": 444
    },
    "id": "jHaHVUSJrf-U",
    "outputId": "7b007454-a61f-4ac2-aa7d-3ed5e01a2da8"
   },
   "outputs": [
    {
     "data": {
      "image/png": "[encoded data removed]",
      "text/plain": [
       "<Figure size 1080x504 with 8 Axes>"
      ]
     },
     "metadata": {
      "needs_background": "light",
      "tags": []
     },
     "output_type": "display_data"
    }
   ],
   "source": [
    "values = pd.DataFrame(df.values)\n",
    "lags = 8\n",
    "columns = [values]\n",
    "for i in range(1,(lags + 1)):\n",
    "    columns.append(values.shift(i))\n",
    "dataframe = pd.concat(columns, axis=1)\n",
    "columns = ['t']\n",
    "for i in range(1,(lags + 1)):\n",
    "    columns.append('t-' + str(i))\n",
    "dataframe.columns = columns\n",
    "pyplot.figure(1,figsize=(15,7))\n",
    "for i in range(1,(lags + 1)):\n",
    "    ax = pyplot.subplot(240 + i)\n",
    "    ax.set_title('t vs t-' + str(i))\n",
    "    pyplot.scatter(x=dataframe['t'].values, y=dataframe['t-'+str(i)].values)\n",
    "pyplot.show()"
   ]
  },
  {
   "cell_type": "code",
   "execution_count": 193,
   "metadata": {
    "colab": {
     "base_uri": "https://localhost:8080/",
     "height": 301
    },
    "id": "Gfwyld8rrrJE",
    "outputId": "5e3037f4-0322-4d49-cc0e-87d8ca2c72ad"
   },
   "outputs": [
    {
     "data": {
      "text/plain": [
       "<matplotlib.axes._subplots.AxesSubplot at 0x7f0a46b45390>"
      ]
     },
     "execution_count": 193,
     "metadata": {
      "tags": []
     },
     "output_type": "execute_result"
    },
    {
     "data": {
      "image/png": "[encoded data removed]",
      "text/plain": [
       "<Figure size 432x288 with 1 Axes>"
      ]
     },
     "metadata": {
      "needs_background": "light",
      "tags": []
     },
     "output_type": "display_data"
    }
   ],
   "source": [
    "autocorrelation_plot(df)"
   ]
  },
  {
   "cell_type": "code",
   "execution_count": 194,
   "metadata": {
    "id": "P86BBu3mTslN"
   },
   "outputs": [],
   "source": [
    "df=df.fillna(df.mean())"
   ]
  },
  {
   "cell_type": "code",
   "execution_count": 195,
   "metadata": {
    "colab": {
     "base_uri": "https://localhost:8080/",
     "height": 296
    },
    "id": "v7a1b8w0r2Ud",
    "outputId": "05f14283-c3a3-4b47-d6be-0ae108cbb16a"
   },
   "outputs": [
    {
     "data": {
      "text/plain": [
       "<matplotlib.axes._subplots.AxesSubplot at 0x7f0a79198c10>"
      ]
     },
     "execution_count": 195,
     "metadata": {
      "tags": []
     },
     "output_type": "execute_result"
    },
    {
     "data": {
      "image/png": "[encoded data removed]",
      "text/plain": [
       "<Figure size 432x288 with 1 Axes>"
      ]
     },
     "metadata": {
      "needs_background": "light",
      "tags": []
     },
     "output_type": "display_data"
    }
   ],
   "source": [
    "upsampled = df.resample('D').mean()\n",
    "interpolated = upsampled.interpolate(method='quadratic')\n",
    "interpolated.plot()"
   ]
  },
  {
   "cell_type": "code",
   "execution_count": 196,
   "metadata": {
    "colab": {
     "base_uri": "https://localhost:8080/"
    },
    "id": "VjLEAgU9S5L_",
    "outputId": "3ca17d7f-e36e-4ba2-cbb0-5756afd7ad03"
   },
   "outputs": [
    {
     "name": "stdout",
     "output_type": "stream",
     "text": [
      "Requirement already satisfied: mxnet in /usr/local/lib/python3.7/dist-packages (1.8.0.post0)\n",
      "Requirement already satisfied: numpy<2.0.0,>1.16.0 in /usr/local/lib/python3.7/dist-packages (from mxnet) (1.19.5)\n",
      "Requirement already satisfied: requests<3,>=2.20.0 in /usr/local/lib/python3.7/dist-packages (from mxnet) (2.23.0)\n",
      "Requirement already satisfied: graphviz<0.9.0,>=0.8.1 in /usr/local/lib/python3.7/dist-packages (from mxnet) (0.8.4)\n",
      "Requirement already satisfied: certifi>=2017.4.17 in /usr/local/lib/python3.7/dist-packages (from requests<3,>=2.20.0->mxnet) (2020.12.5)\n",
      "Requirement already satisfied: chardet<4,>=3.0.2 in /usr/local/lib/python3.7/dist-packages (from requests<3,>=2.20.0->mxnet) (3.0.4)\n",
      "Requirement already satisfied: urllib3!=1.25.0,!=1.25.1,<1.26,>=1.21.1 in /usr/local/lib/python3.7/dist-packages (from requests<3,>=2.20.0->mxnet) (1.24.3)\n",
      "Requirement already satisfied: idna<3,>=2.5 in /usr/local/lib/python3.7/dist-packages (from requests<3,>=2.20.0->mxnet) (2.10)\n"
     ]
    }
   ],
   "source": [
    "pip install mxnet\n"
   ]
  },
  {
   "cell_type": "code",
   "execution_count": 197,
   "metadata": {
    "id": "4aPQmaCWSyaJ"
   },
   "outputs": [],
   "source": [
    "import time\n",
    "import numpy as np\n",
    "\n",
    "from mxnet import nd, autograd, gluon\n",
    "from mxnet.gluon import nn, rnn\n",
    "import mxnet as mx\n",
    "import datetime\n",
    "import seaborn as sns\n",
    "\n",
    "import matplotlib.pyplot as plt\n",
    "%matplotlib inline\n",
    "from sklearn.decomposition import PCA\n",
    "\n",
    "import math\n",
    "\n",
    "from sklearn.preprocessing import MinMaxScaler\n",
    "from sklearn.metrics import mean_squared_error\n",
    "from sklearn.preprocessing import StandardScaler\n",
    "\n",
    "import xgboost as xgb\n",
    "from sklearn.metrics import accuracy_score"
   ]
  },
  {
   "cell_type": "code",
   "execution_count": 198,
   "metadata": {
    "colab": {
     "base_uri": "https://localhost:8080/",
     "height": 287
    },
    "id": "9BRhGbzYwRok",
    "outputId": "caeff942-1f41-48ce-b3aa-0b3df8837350"
   },
   "outputs": [
    {
     "data": {
      "text/html": [
       "<div>\n",
       "<style scoped>\n",
       "    .dataframe tbody tr th:only-of-type {\n",
       "        vertical-align: middle;\n",
       "    }\n",
       "\n",
       "    .dataframe tbody tr th {\n",
       "        vertical-align: top;\n",
       "    }\n",
       "\n",
       "    .dataframe thead th {\n",
       "        text-align: right;\n",
       "    }\n",
       "</style>\n",
       "<table border=\"1\" class=\"dataframe\">\n",
       "  <thead>\n",
       "    <tr style=\"text-align: right;\">\n",
       "      <th></th>\n",
       "      <th>Close</th>\n",
       "    </tr>\n",
       "  </thead>\n",
       "  <tbody>\n",
       "    <tr>\n",
       "      <th>count</th>\n",
       "      <td>3788.000000</td>\n",
       "    </tr>\n",
       "    <tr>\n",
       "      <th>mean</th>\n",
       "      <td>1225.928113</td>\n",
       "    </tr>\n",
       "    <tr>\n",
       "      <th>std</th>\n",
       "      <td>330.593703</td>\n",
       "    </tr>\n",
       "    <tr>\n",
       "      <th>min</th>\n",
       "      <td>526.299988</td>\n",
       "    </tr>\n",
       "    <tr>\n",
       "      <th>25%</th>\n",
       "      <td>1050.474976</td>\n",
       "    </tr>\n",
       "    <tr>\n",
       "      <th>50%</th>\n",
       "      <td>1250.000000</td>\n",
       "    </tr>\n",
       "    <tr>\n",
       "      <th>75%</th>\n",
       "      <td>1397.725006</td>\n",
       "    </tr>\n",
       "    <tr>\n",
       "      <th>max</th>\n",
       "      <td>2051.500000</td>\n",
       "    </tr>\n",
       "  </tbody>\n",
       "</table>\n",
       "</div>"
      ],
      "text/plain": [
       "             Close\n",
       "count  3788.000000\n",
       "mean   1225.928113\n",
       "std     330.593703\n",
       "min     526.299988\n",
       "25%    1050.474976\n",
       "50%    1250.000000\n",
       "75%    1397.725006\n",
       "max    2051.500000"
      ]
     },
     "execution_count": 198,
     "metadata": {
      "tags": []
     },
     "output_type": "execute_result"
    }
   ],
   "source": [
    "df.describe()"
   ]
  },
  {
   "cell_type": "markdown",
   "metadata": {
    "id": "rmrVhdTlMxhx"
   },
   "source": [
    "# BUILDING MODEL \n",
    "\n",
    "## LSTM-GRU\n"
   ]
  },
  {
   "cell_type": "code",
   "execution_count": 199,
   "metadata": {
    "id": "hiTjga9OMxE_"
   },
   "outputs": [],
   "source": [
    "model = tf.keras.Sequential()\n",
    "model.add(tf.keras.layers.GRU(5,activation = 'relu', input_shape=(1,1)))\n",
    "model.add(Dense(100,activation='relu'))\n",
    "model.add(Dense(1))\n",
    "model.compile(loss='mse',optimizer='adam',metrics=['mae'])\n"
   ]
  },
  {
   "cell_type": "markdown",
   "metadata": {
    "id": "o9ZlHyST5TT7"
   },
   "source": [
    "## LSTM CNN Attention"
   ]
  },
  {
   "cell_type": "code",
   "execution_count": 200,
   "metadata": {
    "colab": {
     "base_uri": "https://localhost:8080/"
    },
    "id": "QFYHM_XsOxZQ",
    "outputId": "1a7b7a6e-7fc6-4ba7-ebff-266f9b5ccc8c"
   },
   "outputs": [
    {
     "name": "stdout",
     "output_type": "stream",
     "text": [
      "Requirement already satisfied: keras-attention in /usr/local/lib/python3.7/dist-packages (1.0.0)\n",
      "Requirement already satisfied: keras in /usr/local/lib/python3.7/dist-packages (from keras-attention) (2.4.3)\n",
      "Requirement already satisfied: pyyaml in /usr/local/lib/python3.7/dist-packages (from keras->keras-attention) (3.13)\n",
      "Requirement already satisfied: scipy>=0.14 in /usr/local/lib/python3.7/dist-packages (from keras->keras-attention) (1.4.1)\n",
      "Requirement already satisfied: h5py in /usr/local/lib/python3.7/dist-packages (from keras->keras-attention) (2.10.0)\n",
      "Requirement already satisfied: numpy>=1.9.1 in /usr/local/lib/python3.7/dist-packages (from keras->keras-attention) (1.19.5)\n",
      "Requirement already satisfied: six in /usr/local/lib/python3.7/dist-packages (from h5py->keras->keras-attention) (1.15.0)\n",
      "Requirement already satisfied: keras-self-attention in /usr/local/lib/python3.7/dist-packages (0.49.0)\n",
      "Requirement already satisfied: numpy in /usr/local/lib/python3.7/dist-packages (from keras-self-attention) (1.19.5)\n",
      "Requirement already satisfied: Keras in /usr/local/lib/python3.7/dist-packages (from keras-self-attention) (2.4.3)\n",
      "Requirement already satisfied: pyyaml in /usr/local/lib/python3.7/dist-packages (from Keras->keras-self-attention) (3.13)\n",
      "Requirement already satisfied: h5py in /usr/local/lib/python3.7/dist-packages (from Keras->keras-self-attention) (2.10.0)\n",
      "Requirement already satisfied: scipy>=0.14 in /usr/local/lib/python3.7/dist-packages (from Keras->keras-self-attention) (1.4.1)\n",
      "Requirement already satisfied: six in /usr/local/lib/python3.7/dist-packages (from h5py->Keras->keras-self-attention) (1.15.0)\n"
     ]
    }
   ],
   "source": [
    "!pip install keras-attention\n",
    "!pip install keras-self-attention"
   ]
  },
  {
   "cell_type": "code",
   "execution_count": 201,
   "metadata": {
    "id": "aciFxnch5no_"
   },
   "outputs": [],
   "source": [
    "import os\n",
    "import time\n",
    "import warnings\n",
    "import numpy as np\n",
    "import pandas as pd\n",
    "import operator\n",
    "from functools import reduce\n",
    "import h5py\n",
    "from numpy import newaxis\n",
    "from keras.layers.core import Dense, Activation, Dropout\n",
    "from keras.layers import Convolution1D, MaxPooling1D, Flatten,  Embedding,Bidirectional, GRU\n",
    "from keras.layers import Conv1D, GlobalMaxPooling1D, merge\n",
    "from keras.layers.recurrent import LSTM\n",
    "from keras.models import Sequential\n",
    "from keras_self_attention import SeqSelfAttention\n",
    "import matplotlib.pyplot as plt\n",
    "\n",
    "from sklearn.preprocessing import StandardScaler, Normalizer\n",
    "from sklearn.metrics import mean_squared_error, mean_absolute_error\n",
    "from math import sqrt\n"
   ]
  },
  {
   "cell_type": "code",
   "execution_count": 202,
   "metadata": {
    "id": "0AtdUtYRR4a2"
   },
   "outputs": [],
   "source": [
    "def create_dataset(dataset, look_back=1, columns = ['Close']):\n",
    "    dataX, dataY = [], []\n",
    "    for i in range(len(dataset.index)):\n",
    "        if i < look_back:\n",
    "            continue\n",
    "        a = None\n",
    "        for c in columns:\n",
    "            b = dataset.loc[dataset.index[i-look_back:i], c].to_numpy() \n",
    "            if a is None:\n",
    "                a = b\n",
    "            else:\n",
    "                a = np.append(a,b)\n",
    "        dataX.append(a)\n",
    "        dataY.append(dataset.loc[dataset.index[i-look_back], columns].to_numpy())\n",
    "    return np.array(dataX), np.array(dataY)"
   ]
  },
  {
   "cell_type": "code",
   "execution_count": 175,
   "metadata": {
    "colab": {
     "base_uri": "https://localhost:8080/",
     "height": 1000
    },
    "id": "6F_029-65SBZ",
    "outputId": "e3748fc4-1dad-4ce8-9bc5-cfb0cbaee66c"
   },
   "outputs": [
    {
     "name": "stdout",
     "output_type": "stream",
     "text": [
      "Date\n",
      "2011-01-03    0.097506\n",
      "2011-01-04   -0.107242\n",
      "2011-01-05   -0.130921\n",
      "2011-01-06   -0.140206\n",
      "2011-01-07   -0.153671\n",
      "                ...   \n",
      "2020-12-24    0.000000\n",
      "2020-12-28    2.208134\n",
      "2020-12-29    2.219741\n",
      "2020-12-30    2.272205\n",
      "2020-12-31    2.281955\n",
      "Name: Close, Length: 2518, dtype: float64\n",
      "Model: \"sequential_19\"\n",
      "_________________________________________________________________\n",
      "Layer (type)                 Output Shape              Param #   \n",
      "=================================================================\n",
      "gru_5 (GRU)                  (None, 7, 6)              162       \n",
      "_________________________________________________________________\n",
      "Attention (SeqSelfAttention) (None, None, 6)           449       \n",
      "_________________________________________________________________\n",
      "conv1d_9 (Conv1D)            (None, None, 64)          832       \n",
      "_________________________________________________________________\n",
      "max_pooling1d_8 (MaxPooling1 (None, None, 64)          0         \n",
      "_________________________________________________________________\n",
      "dropout_6 (Dropout)          (None, None, 64)          0         \n",
      "_________________________________________________________________\n",
      "activation_12 (Activation)   (None, None, 64)          0         \n",
      "_________________________________________________________________\n",
      "dense_12 (Dense)             (None, None, 1)           65        \n",
      "_________________________________________________________________\n",
      "activation_13 (Activation)   (None, None, 1)           0         \n",
      "=================================================================\n",
      "Total params: 1,508\n",
      "Trainable params: 1,508\n",
      "Non-trainable params: 0\n",
      "_________________________________________________________________\n",
      "None\n",
      "Epoch 1/100\n",
      "26/26 [==============================] - 3s 9ms/step - loss: 1.1212\n",
      "Epoch 2/100\n",
      "26/26 [==============================] - 0s 9ms/step - loss: 0.6248\n",
      "Epoch 3/100\n",
      "26/26 [==============================] - 0s 8ms/step - loss: 0.3597\n",
      "Epoch 4/100\n",
      "26/26 [==============================] - 0s 8ms/step - loss: 0.1765\n",
      "Epoch 5/100\n",
      "26/26 [==============================] - 0s 9ms/step - loss: 0.0808\n",
      "Epoch 6/100\n",
      "26/26 [==============================] - 0s 9ms/step - loss: 0.0522\n",
      "Epoch 7/100\n",
      "26/26 [==============================] - 0s 9ms/step - loss: 0.0526\n",
      "Epoch 8/100\n",
      "26/26 [==============================] - 0s 8ms/step - loss: 0.0512\n",
      "Epoch 9/100\n",
      "26/26 [==============================] - 0s 9ms/step - loss: 0.0476\n",
      "Epoch 10/100\n",
      "26/26 [==============================] - 0s 8ms/step - loss: 0.0509\n",
      "Epoch 11/100\n",
      "26/26 [==============================] - 0s 9ms/step - loss: 0.0463\n",
      "Epoch 12/100\n",
      "26/26 [==============================] - 0s 9ms/step - loss: 0.0477\n",
      "Epoch 13/100\n",
      "26/26 [==============================] - 0s 9ms/step - loss: 0.0432\n",
      "Epoch 14/100\n",
      "26/26 [==============================] - 0s 9ms/step - loss: 0.0453\n",
      "Epoch 15/100\n",
      "26/26 [==============================] - 0s 10ms/step - loss: 0.0458\n",
      "Epoch 16/100\n",
      "26/26 [==============================] - 0s 9ms/step - loss: 0.0440\n",
      "Epoch 17/100\n",
      "26/26 [==============================] - 0s 8ms/step - loss: 0.0445\n",
      "Epoch 18/100\n",
      "26/26 [==============================] - 0s 9ms/step - loss: 0.0424\n",
      "Epoch 19/100\n",
      "26/26 [==============================] - 0s 9ms/step - loss: 0.0424\n",
      "Epoch 20/100\n",
      "26/26 [==============================] - 0s 8ms/step - loss: 0.0417\n",
      "Epoch 21/100\n",
      "26/26 [==============================] - 0s 9ms/step - loss: 0.0409\n",
      "Epoch 22/100\n",
      "26/26 [==============================] - 0s 10ms/step - loss: 0.0370\n",
      "Epoch 23/100\n",
      "26/26 [==============================] - 0s 9ms/step - loss: 0.0395\n",
      "Epoch 24/100\n",
      "26/26 [==============================] - 0s 9ms/step - loss: 0.0393\n",
      "Epoch 25/100\n",
      "26/26 [==============================] - 0s 8ms/step - loss: 0.0372\n",
      "Epoch 26/100\n",
      "26/26 [==============================] - 0s 9ms/step - loss: 0.0350\n",
      "Epoch 27/100\n",
      "26/26 [==============================] - 0s 8ms/step - loss: 0.0374\n",
      "Epoch 28/100\n",
      "26/26 [==============================] - 0s 9ms/step - loss: 0.0364\n",
      "Epoch 29/100\n",
      "26/26 [==============================] - 0s 9ms/step - loss: 0.0345\n",
      "Epoch 30/100\n",
      "26/26 [==============================] - 0s 8ms/step - loss: 0.0357\n",
      "Epoch 31/100\n",
      "26/26 [==============================] - 0s 8ms/step - loss: 0.0361\n",
      "Epoch 32/100\n",
      "26/26 [==============================] - 0s 9ms/step - loss: 0.0374\n",
      "Epoch 33/100\n",
      "26/26 [==============================] - 0s 8ms/step - loss: 0.0338\n",
      "Epoch 34/100\n",
      "26/26 [==============================] - 0s 8ms/step - loss: 0.0326\n",
      "Epoch 35/100\n",
      "26/26 [==============================] - 0s 9ms/step - loss: 0.0339\n",
      "Epoch 36/100\n",
      "26/26 [==============================] - 0s 8ms/step - loss: 0.0346\n",
      "Epoch 37/100\n",
      "26/26 [==============================] - 0s 9ms/step - loss: 0.0331\n",
      "Epoch 38/100\n",
      "26/26 [==============================] - 0s 8ms/step - loss: 0.0341\n",
      "Epoch 39/100\n",
      "26/26 [==============================] - 0s 8ms/step - loss: 0.0350\n",
      "Epoch 40/100\n",
      "26/26 [==============================] - 0s 9ms/step - loss: 0.0343\n",
      "Epoch 41/100\n",
      "26/26 [==============================] - 0s 9ms/step - loss: 0.0348\n",
      "Epoch 42/100\n",
      "26/26 [==============================] - 0s 9ms/step - loss: 0.0357\n",
      "Epoch 43/100\n",
      "26/26 [==============================] - 0s 9ms/step - loss: 0.0358\n",
      "Epoch 44/100\n",
      "26/26 [==============================] - 0s 9ms/step - loss: 0.0433\n",
      "Epoch 45/100\n",
      "26/26 [==============================] - 0s 9ms/step - loss: 0.0482\n",
      "Epoch 46/100\n",
      "26/26 [==============================] - 0s 8ms/step - loss: 0.0556\n",
      "Epoch 47/100\n",
      "26/26 [==============================] - 0s 9ms/step - loss: 0.0677\n",
      "Epoch 48/100\n",
      "26/26 [==============================] - 0s 9ms/step - loss: 0.0611\n",
      "Epoch 49/100\n",
      "26/26 [==============================] - 0s 8ms/step - loss: 0.0662\n",
      "Epoch 50/100\n",
      "26/26 [==============================] - 0s 9ms/step - loss: 0.0522\n",
      "Epoch 51/100\n",
      "26/26 [==============================] - 0s 9ms/step - loss: 0.0494\n",
      "Epoch 52/100\n",
      "26/26 [==============================] - 0s 9ms/step - loss: 0.0406\n",
      "Epoch 53/100\n",
      "26/26 [==============================] - 0s 9ms/step - loss: 0.0388\n",
      "Epoch 54/100\n",
      "26/26 [==============================] - 0s 9ms/step - loss: 0.0367\n",
      "Epoch 55/100\n",
      "26/26 [==============================] - 0s 9ms/step - loss: 0.0346\n",
      "Epoch 56/100\n",
      "26/26 [==============================] - 0s 9ms/step - loss: 0.0351\n",
      "Epoch 57/100\n",
      "26/26 [==============================] - 0s 9ms/step - loss: 0.0345\n",
      "Epoch 58/100\n",
      "26/26 [==============================] - 0s 9ms/step - loss: 0.0334\n",
      "Epoch 59/100\n",
      "26/26 [==============================] - 0s 9ms/step - loss: 0.0333\n",
      "Epoch 60/100\n",
      "26/26 [==============================] - 0s 8ms/step - loss: 0.0351\n",
      "Epoch 61/100\n",
      "26/26 [==============================] - 0s 9ms/step - loss: 0.0354\n",
      "Epoch 62/100\n",
      "26/26 [==============================] - 0s 9ms/step - loss: 0.0352\n",
      "Epoch 63/100\n",
      "26/26 [==============================] - 0s 9ms/step - loss: 0.0367\n",
      "Epoch 64/100\n",
      "26/26 [==============================] - 0s 9ms/step - loss: 0.0361\n",
      "Epoch 65/100\n",
      "26/26 [==============================] - 0s 9ms/step - loss: 0.0353\n",
      "Epoch 66/100\n",
      "26/26 [==============================] - 0s 9ms/step - loss: 0.0359\n",
      "Epoch 67/100\n",
      "26/26 [==============================] - 0s 9ms/step - loss: 0.0356\n",
      "Epoch 68/100\n",
      "26/26 [==============================] - 0s 9ms/step - loss: 0.0360\n",
      "Epoch 69/100\n",
      "26/26 [==============================] - 0s 9ms/step - loss: 0.0380\n",
      "Epoch 70/100\n",
      "26/26 [==============================] - 0s 9ms/step - loss: 0.0401\n",
      "Epoch 71/100\n",
      "26/26 [==============================] - 0s 9ms/step - loss: 0.0423\n",
      "Epoch 72/100\n",
      "26/26 [==============================] - 0s 9ms/step - loss: 0.0428\n",
      "Epoch 73/100\n",
      "26/26 [==============================] - 0s 9ms/step - loss: 0.0444\n",
      "Epoch 74/100\n",
      "26/26 [==============================] - 0s 9ms/step - loss: 0.0448\n",
      "Epoch 75/100\n",
      "26/26 [==============================] - 0s 9ms/step - loss: 0.0491\n",
      "Epoch 76/100\n",
      "26/26 [==============================] - 0s 9ms/step - loss: 0.0453\n",
      "Epoch 77/100\n",
      "26/26 [==============================] - 0s 9ms/step - loss: 0.0462\n",
      "Epoch 78/100\n",
      "26/26 [==============================] - 0s 9ms/step - loss: 0.0426\n",
      "Epoch 79/100\n",
      "26/26 [==============================] - 0s 10ms/step - loss: 0.0418\n",
      "Epoch 80/100\n",
      "26/26 [==============================] - 0s 8ms/step - loss: 0.0396\n",
      "Epoch 81/100\n",
      "26/26 [==============================] - 0s 9ms/step - loss: 0.0404\n",
      "Epoch 82/100\n",
      "26/26 [==============================] - 0s 8ms/step - loss: 0.0398\n",
      "Epoch 83/100\n",
      "26/26 [==============================] - 0s 9ms/step - loss: 0.0406\n",
      "Epoch 84/100\n",
      "26/26 [==============================] - 0s 9ms/step - loss: 0.0378\n",
      "Epoch 85/100\n",
      "26/26 [==============================] - 0s 9ms/step - loss: 0.0358\n",
      "Epoch 86/100\n",
      "26/26 [==============================] - 0s 9ms/step - loss: 0.0353\n",
      "Epoch 87/100\n",
      "26/26 [==============================] - 0s 9ms/step - loss: 0.0348\n",
      "Epoch 88/100\n",
      "26/26 [==============================] - 0s 9ms/step - loss: 0.0333\n",
      "Epoch 89/100\n",
      "26/26 [==============================] - 0s 9ms/step - loss: 0.0318\n",
      "Epoch 90/100\n",
      "26/26 [==============================] - 0s 9ms/step - loss: 0.0326\n",
      "Epoch 91/100\n",
      "26/26 [==============================] - 0s 9ms/step - loss: 0.0325\n",
      "Epoch 92/100\n",
      "26/26 [==============================] - 0s 9ms/step - loss: 0.0341\n",
      "Epoch 93/100\n",
      "26/26 [==============================] - 0s 9ms/step - loss: 0.0343\n",
      "Epoch 94/100\n",
      "26/26 [==============================] - 0s 9ms/step - loss: 0.0350\n",
      "Epoch 95/100\n",
      "26/26 [==============================] - 0s 9ms/step - loss: 0.0361\n",
      "Epoch 96/100\n",
      "26/26 [==============================] - 0s 9ms/step - loss: 0.0362\n",
      "Epoch 97/100\n",
      "26/26 [==============================] - 0s 8ms/step - loss: 0.0407\n",
      "Epoch 98/100\n",
      "26/26 [==============================] - 0s 9ms/step - loss: 0.0438\n",
      "Epoch 99/100\n",
      "26/26 [==============================] - 0s 10ms/step - loss: 0.0435\n",
      "Epoch 100/100\n",
      "26/26 [==============================] - 0s 9ms/step - loss: 0.0432\n"
     ]
    },
    {
     "name": "stderr",
     "output_type": "stream",
     "text": [
      "The PostScript backend does not support transparency; partially transparent artists will be rendered opaque.\n",
      "The PostScript backend does not support transparency; partially transparent artists will be rendered opaque.\n"
     ]
    },
    {
     "name": "stdout",
     "output_type": "stream",
     "text": [
      "The RMSE is  8.342831e+01\n",
      "The RMAE is  7.827046e+00\n",
      "The MAPE is  3.551202e+00\n"
     ]
    },
    {
     "data": {
      "image/png": "[encoded data removed]",
      "text/plain": [
       "<Figure size 432x288 with 1 Axes>"
      ]
     },
     "metadata": {
      "needs_background": "light",
      "tags": []
     },
     "output_type": "display_data"
    }
   ],
   "source": [
    "look_back = 7 # 10, 13\n",
    "sc = StandardScaler()  \n",
    "df.loc[:, 'Close'] = sc.fit_transform(df.Close.values.reshape(-1,1)) # fit.transform()\n",
    "print(df.loc[:, 'Close'])\n",
    "\n",
    "# Create training data\n",
    "#train_df = df.loc[df.index < pd.to_datetime('2010-01-01')]\n",
    "train_df = df.loc[df.index < df.index[int(len(df.index)*0.8)]]\n",
    "train_x, train_y = create_dataset(train_df, look_back=look_back)\n",
    "\n",
    "\n",
    "# Construct the whole LSTM + CNN\n",
    "model = Sequential()\n",
    "# LSTM\n",
    "model.add(GRU(6,input_shape = (look_back, 1), input_dim=1 ,   return_sequences=True))\n",
    "\n",
    "#model.add(LSTM(input_shape = (look_back,1), input_dim=1, output_dim=6, return_sequences=True))\n",
    "#model.add(Dense(1))\n",
    "#model.add(Activation('relu')) # ReLU : y = max(0,x)\n",
    "\n",
    "# Attention Mechanism\n",
    "model.add(SeqSelfAttention(attention_activation='sigmoid', name='Attention'))\n",
    "\n",
    "# CNN\n",
    "model.add(Convolution1D(input_shape = (look_back,1),\n",
    "                        filters=64,# 32,128\n",
    "                       kernel_size=2,\n",
    "                       activation='relu',\n",
    "                        ))\n",
    "#model.add(MaxPooling1D(pool_length=2)) \n",
    "\n",
    "'''model.add(Convolution1D(input_shape = (look_back,1),\n",
    "                        nb_filter=64,\n",
    "                        filter_length=2,\n",
    "                        border_mode='valid',\n",
    "                        activation='relu',\n",
    "                        subsample_length=1))'''\n",
    "model.add(MaxPooling1D(pool_size=(2)))\n",
    "\n",
    "model.add(Dropout(0.25))\n",
    "\n",
    "#model.add(Dense(250)) \n",
    "#model.add(Dropout(0.25,input_shape=(2,)))\n",
    "model.add(Activation('relu')) # ReLU : y = max(0,x)\n",
    "model.add(Dense(1))\n",
    "model.add(Activation('linear')) # Linear : y = x\n",
    "\n",
    "# Print whole structure of the model\n",
    "print(model.summary())\n",
    "\n",
    "# training the train data with n epoch\n",
    "model.compile(loss=\"mse\", optimizer=\"adam\") # adam, rmsprop\n",
    "result = model.fit(np.atleast_3d(np.array(train_x)),\n",
    "          np.atleast_3d(train_y),\n",
    "          epochs=100,\n",
    "          batch_size=80, verbose=1, shuffle=False)\n",
    "\n",
    "\n",
    "with open('data_lstm_attention_cnn_palladium.txt','w') as f:\n",
    "    f.write(str(result.history))\n",
    "\n",
    "model.save('lstm_attention_cnn_palladium.h5')\n",
    "\n",
    "\n",
    "# Make prediction and specify on the line chart\n",
    "predictors = ['Close']\n",
    "df['Pred'] = df.loc[df.index[0], 'Close']\n",
    "for i in range(len(df.index)):\n",
    "    if i < look_back:\n",
    "        continue\n",
    "    a = None\n",
    "    for c in predictors:\n",
    "        b = df.loc[df.index[i-look_back:i], c].to_numpy()\n",
    "        if a is None:\n",
    "            a = b\n",
    "        else:\n",
    "            a = np.append(a,b)\n",
    "        a = a\n",
    "    y = model.predict(a.reshape(1,look_back*len(predictors),1)) \n",
    "    df.loc[df.index[i], 'Pred']=y[0][0]\n",
    "\n",
    "df.loc[:, 'Close'] = sc.inverse_transform(df.loc[:, 'Close']) \n",
    "df.loc[:, 'Pred'] = sc.inverse_transform(df.loc[:, 'Pred'])\n",
    "\n",
    "def mape(y_true, y_pred):\n",
    "    n = len(y_true)\n",
    "    mape = sum(np.abs((y_true - y_pred) / y_true)) / n * 100\n",
    "    return mape\n",
    "\n",
    "# present the line chart and some parameters like MSE, which reflects the accuracy of the model in sample or out sample\n",
    "\n",
    "plt.grid(ls='--')\n",
    "plt.plot(df.loc[df.index < df.index[int(len(df.index)*0.8)], 'Pred'], 'orange', label = 'Insample Prediction')\n",
    "plt.plot(df.loc[df.index >= df.index[int(len(df.index)*0.8)], 'Pred'], 'g', label = 'Outsample Prediction')\n",
    "plt.plot(df.Close ,'b', label = 'Price')\n",
    "plt.xlabel('Date')\n",
    "plt.ylabel('Closing Price')\n",
    "#print('%e'%mean_squared_error(df.loc[df.index < pd.to_datetime('2010-01-01'),'Close'],df.loc[df.index < pd.to_datetime('2010-01-01'),'Pred']))\n",
    "#print('%e'%mean_squared_error(df.loc[df.index >= pd.to_datetime('2010-01-01'),'Close'],df.loc[df.index >= pd.to_datetime('2010-01-01'),'Pred']))\n",
    "print('The RMSE is ','%e'%sqrt(mean_squared_error(df.loc[df.index >= df.index[int(len(df.index)*0.8)], 'Close'], df.loc[df.index >= df.index[int(len(df.index)*0.8)], 'Pred'])))\n",
    "print('The RMAE is ','%e'%sqrt(mean_absolute_error(df.loc[df.index >= df.index[int(len(df.index)*0.8)], 'Close'], df.loc[df.index >= df.index[int(len(df.index)*0.8)], 'Pred'])))\n",
    "print('The MAPE is ','%e'%mape(df.loc[df.index >= df.index[int(len(df.index)*0.8)], 'Close'], df.loc[df.index >= df.index[int(len(df.index)*0.8)], 'Pred']))\n",
    "\n",
    "\n",
    "plt.legend()\n",
    "plt.savefig(\"lstm_attention_cnn_palladium.eps\", format='eps', dpi=1000)\n",
    "plt.show()\n"
   ]
  },
  {
   "cell_type": "code",
   "execution_count": 176,
   "metadata": {
    "colab": {
     "base_uri": "https://localhost:8080/",
     "height": 314
    },
    "id": "fGwYwHnmPJYr",
    "outputId": "b20695a4-6d1e-4d32-b62f-535c8748fcc4"
   },
   "outputs": [
    {
     "name": "stderr",
     "output_type": "stream",
     "text": [
      "The PostScript backend does not support transparency; partially transparent artists will be rendered opaque.\n",
      "The PostScript backend does not support transparency; partially transparent artists will be rendered opaque.\n"
     ]
    },
    {
     "data": {
      "image/png": "[encoded data removed]",
      "text/plain": [
       "<Figure size 432x288 with 1 Axes>"
      ]
     },
     "metadata": {
      "needs_background": "light",
      "tags": []
     },
     "output_type": "display_data"
    }
   ],
   "source": [
    "\n",
    "# sketch loss\n",
    "#plt.cla() # clear the axis\n",
    "plt.grid(ls='--')\n",
    "plt.plot(result.epoch,result.history['loss'],label='LOSS',c='r',lw=3)\n",
    "#plt.scatter(result.epoch,result.history['loss'],s=15,c='r')\n",
    "plt.xlabel('Number of Epochs')\n",
    "plt.ylabel('Loss')\n",
    "plt.legend(loc='upper right', frameon=True, edgecolor='black')\n",
    "plt.savefig(\"LC_loss.eps\", format='eps', dpi=1000)\n",
    "plt. close(0)\n"
   ]
  },
  {
   "cell_type": "code",
   "execution_count": 176,
   "metadata": {
    "id": "wOYOs7ngWVKw"
   },
   "outputs": [],
   "source": []
  }
 ],
 "metadata": {
  "colab": {
   "name": "Metal_Options.ipynb",
   "provenance": []
  },
  "kernelspec": {
   "display_name": "Python 3",
   "language": "python",
   "name": "python3"
  },
  "language_info": {
   "codemirror_mode": {
    "name": "ipython",
    "version": 3
   },
   "file_extension": ".py",
   "mimetype": "text/x-python",
   "name": "python",
   "nbconvert_exporter": "python",
   "pygments_lexer": "ipython3",
   "version": "3.9.2"
  }
 },
 "nbformat": 4,
 "nbformat_minor": 1
}
