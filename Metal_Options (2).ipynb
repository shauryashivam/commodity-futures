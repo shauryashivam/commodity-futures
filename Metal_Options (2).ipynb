{
 "cells": [
  {
   "cell_type": "code",
   "execution_count": 121,
   "metadata": {
    "id": "At0qq6bzsVVk"
   },
   "outputs": [],
   "source": [
    "import numpy as np\n",
    "import pandas as pd\n",
    "import matplotlib.pyplot as plt\n",
    "import tensorflow as tf\n",
    "from sklearn.model_selection import train_test_split\n"
   ]
  },
  {
   "cell_type": "code",
   "execution_count": 122,
   "metadata": {
    "id": "J9HwTbblmbfo"
   },
   "outputs": [],
   "source": [
    "# Import required libraries\n",
    "import pandas as pd\n",
    "import numpy as np\n",
    "from pandas.plotting import lag_plot\n",
    "from pandas.plotting import autocorrelation_plot\n",
    "from matplotlib import pyplot\n",
    "from statsmodels.tsa.seasonal import seasonal_decompose\n",
    "from statsmodels.tsa.stattools import adfuller\n",
    "import math as math\n",
    "from scipy.stats import boxcox\n",
    "from random import randrange\n",
    "from random import seed\n",
    "from random import random\n",
    "from random import gauss"
   ]
  },
  {
   "cell_type": "code",
   "execution_count": 123,
   "metadata": {
    "id": "66tOYdNmsiDZ"
   },
   "outputs": [],
   "source": [
    "df = pd.read_csv(\"https://raw.githubusercontent.com/shauryashivam/commodity-futures/main/Dataset/Gold10.csv?token=AMF2Z3NMUTVJFFMLGV35QJLARWXAS\",header=0, index_col=0, parse_dates=True,\n",
    "squeeze=True)"
   ]
  },
  {
   "cell_type": "code",
   "execution_count": 124,
   "metadata": {
    "id": "RJDwoCmUn_Qt"
   },
   "outputs": [],
   "source": [
    "df.drop(columns=['Open','High','Low','Adj Close','Volume'],axis=1,inplace=True)"
   ]
  },
  {
   "cell_type": "code",
   "execution_count": 125,
   "metadata": {
    "colab": {
     "base_uri": "https://localhost:8080/",
     "height": 227
    },
    "id": "-NT7e0NmstC-",
    "outputId": "a67e29ed-9ab8-4c85-9207-20ae7baeb45a"
   },
   "outputs": [
    {
     "data": {
      "text/html": [
       "<div>\n",
       "<style scoped>\n",
       "    .dataframe tbody tr th:only-of-type {\n",
       "        vertical-align: middle;\n",
       "    }\n",
       "\n",
       "    .dataframe tbody tr th {\n",
       "        vertical-align: top;\n",
       "    }\n",
       "\n",
       "    .dataframe thead th {\n",
       "        text-align: right;\n",
       "    }\n",
       "</style>\n",
       "<table border=\"1\" class=\"dataframe\">\n",
       "  <thead>\n",
       "    <tr style=\"text-align: right;\">\n",
       "      <th></th>\n",
       "      <th>Close</th>\n",
       "    </tr>\n",
       "    <tr>\n",
       "      <th>Date</th>\n",
       "      <th></th>\n",
       "    </tr>\n",
       "  </thead>\n",
       "  <tbody>\n",
       "    <tr>\n",
       "      <th>2011-01-03</th>\n",
       "      <td>1422.599976</td>\n",
       "    </tr>\n",
       "    <tr>\n",
       "      <th>2011-01-04</th>\n",
       "      <td>1378.500000</td>\n",
       "    </tr>\n",
       "    <tr>\n",
       "      <th>2011-01-05</th>\n",
       "      <td>1373.400024</td>\n",
       "    </tr>\n",
       "    <tr>\n",
       "      <th>2011-01-06</th>\n",
       "      <td>1371.400024</td>\n",
       "    </tr>\n",
       "    <tr>\n",
       "      <th>2011-01-07</th>\n",
       "      <td>1368.500000</td>\n",
       "    </tr>\n",
       "  </tbody>\n",
       "</table>\n",
       "</div>"
      ],
      "text/plain": [
       "                  Close\n",
       "Date                   \n",
       "2011-01-03  1422.599976\n",
       "2011-01-04  1378.500000\n",
       "2011-01-05  1373.400024\n",
       "2011-01-06  1371.400024\n",
       "2011-01-07  1368.500000"
      ]
     },
     "execution_count": 125,
     "metadata": {
      "tags": []
     },
     "output_type": "execute_result"
    }
   ],
   "source": [
    "df.head()"
   ]
  },
  {
   "cell_type": "code",
   "execution_count": 126,
   "metadata": {
    "colab": {
     "base_uri": "https://localhost:8080/",
     "height": 287
    },
    "id": "7T0ysN1wnH1s",
    "outputId": "169f7776-3caf-4f1f-94d0-249201cee88e"
   },
   "outputs": [
    {
     "data": {
      "text/html": [
       "<div>\n",
       "<style scoped>\n",
       "    .dataframe tbody tr th:only-of-type {\n",
       "        vertical-align: middle;\n",
       "    }\n",
       "\n",
       "    .dataframe tbody tr th {\n",
       "        vertical-align: top;\n",
       "    }\n",
       "\n",
       "    .dataframe thead th {\n",
       "        text-align: right;\n",
       "    }\n",
       "</style>\n",
       "<table border=\"1\" class=\"dataframe\">\n",
       "  <thead>\n",
       "    <tr style=\"text-align: right;\">\n",
       "      <th></th>\n",
       "      <th>Close</th>\n",
       "    </tr>\n",
       "  </thead>\n",
       "  <tbody>\n",
       "    <tr>\n",
       "      <th>count</th>\n",
       "      <td>2494.000000</td>\n",
       "    </tr>\n",
       "    <tr>\n",
       "      <th>mean</th>\n",
       "      <td>1401.598516</td>\n",
       "    </tr>\n",
       "    <tr>\n",
       "      <th>std</th>\n",
       "      <td>216.463398</td>\n",
       "    </tr>\n",
       "    <tr>\n",
       "      <th>min</th>\n",
       "      <td>1050.800049</td>\n",
       "    </tr>\n",
       "    <tr>\n",
       "      <th>25%</th>\n",
       "      <td>1243.425018</td>\n",
       "    </tr>\n",
       "    <tr>\n",
       "      <th>50%</th>\n",
       "      <td>1317.400024</td>\n",
       "    </tr>\n",
       "    <tr>\n",
       "      <th>75%</th>\n",
       "      <td>1574.674957</td>\n",
       "    </tr>\n",
       "    <tr>\n",
       "      <th>max</th>\n",
       "      <td>2051.500000</td>\n",
       "    </tr>\n",
       "  </tbody>\n",
       "</table>\n",
       "</div>"
      ],
      "text/plain": [
       "             Close\n",
       "count  2494.000000\n",
       "mean   1401.598516\n",
       "std     216.463398\n",
       "min    1050.800049\n",
       "25%    1243.425018\n",
       "50%    1317.400024\n",
       "75%    1574.674957\n",
       "max    2051.500000"
      ]
     },
     "execution_count": 126,
     "metadata": {
      "tags": []
     },
     "output_type": "execute_result"
    }
   ],
   "source": [
    "df.describe()"
   ]
  },
  {
   "cell_type": "markdown",
   "metadata": {
    "id": "PRnvAC7zpZyb"
   },
   "source": [
    "# Single Lag"
   ]
  },
  {
   "cell_type": "code",
   "execution_count": 127,
   "metadata": {
    "colab": {
     "base_uri": "https://localhost:8080/"
    },
    "id": "GwfsXTh_nZB9",
    "outputId": "688b8662-24b3-4538-93e1-849bc68ac96a"
   },
   "outputs": [
    {
     "name": "stdout",
     "output_type": "stream",
     "text": [
      "             t          t+1\n",
      "0          NaN  1422.599976\n",
      "1  1422.599976  1378.500000\n",
      "2  1378.500000  1373.400024\n",
      "3  1373.400024  1371.400024\n",
      "4  1371.400024  1368.500000\n"
     ]
    }
   ],
   "source": [
    "var = pd.DataFrame(df.values)\n",
    "dataframe = pd.concat([var.shift(1), var], axis=1)\n",
    "dataframe.columns = ['t', 't+1']\n",
    "print(dataframe.head(5))"
   ]
  },
  {
   "cell_type": "code",
   "execution_count": 128,
   "metadata": {
    "colab": {
     "base_uri": "https://localhost:8080/"
    },
    "id": "Qu5LDhvCpY7W",
    "outputId": "635d1f6a-f164-4134-eb2d-c85b983ede2d"
   },
   "outputs": [
    {
     "name": "stdout",
     "output_type": "stream",
     "text": [
      "           t-2          t-1            t          t+1\n",
      "0          NaN          NaN          NaN  1422.599976\n",
      "1          NaN          NaN  1422.599976  1378.500000\n",
      "2          NaN  1422.599976  1378.500000  1373.400024\n",
      "3  1422.599976  1378.500000  1373.400024  1371.400024\n",
      "4  1378.500000  1373.400024  1371.400024  1368.500000\n"
     ]
    }
   ],
   "source": [
    "var = pd.DataFrame(df.values)\n",
    "dataframe = pd.concat([var.shift(3), var.shift(2), var.shift(1), var], axis=1)\n",
    "dataframe.columns = ['t-2', 't-1', 't', 't+1']\n",
    "print(dataframe.head(5))"
   ]
  },
  {
   "cell_type": "code",
   "execution_count": 129,
   "metadata": {
    "colab": {
     "base_uri": "https://localhost:8080/"
    },
    "id": "rL8fCiCbpo6H",
    "outputId": "04e30833-1052-4f83-e407-cfc14451f668"
   },
   "outputs": [
    {
     "name": "stdout",
     "output_type": "stream",
     "text": [
      "   mean(t-1,t)          t+1\n",
      "0          NaN  1422.599976\n",
      "1          NaN  1378.500000\n",
      "2  1400.549988  1373.400024\n",
      "3  1375.950012  1371.400024\n",
      "4  1372.400024  1368.500000\n"
     ]
    }
   ],
   "source": [
    "var = pd.DataFrame(df.values)\n",
    "shifted = var.shift(1)\n",
    "window = shifted.rolling(window=2)\n",
    "means = window.mean()\n",
    "dataframe = pd.concat([means, var], axis=1)\n",
    "dataframe.columns = ['mean(t-1,t)', 't+1']\n",
    "print(dataframe.head(5))"
   ]
  },
  {
   "cell_type": "code",
   "execution_count": 130,
   "metadata": {
    "colab": {
     "base_uri": "https://localhost:8080/"
    },
    "id": "puv-foOxpuIK",
    "outputId": "799f38af-f251-4767-e2b4-7bd1031d9b83"
   },
   "outputs": [
    {
     "name": "stdout",
     "output_type": "stream",
     "text": [
      "           min         mean          max          t+1\n",
      "0  1422.599976  1422.599976  1422.599976  1378.500000\n",
      "1  1378.500000  1400.549988  1422.599976  1373.400024\n",
      "2  1373.400024  1391.500000  1422.599976  1371.400024\n",
      "3  1371.400024  1386.475006  1422.599976  1368.500000\n",
      "4  1368.500000  1382.880005  1422.599976  1373.699951\n"
     ]
    }
   ],
   "source": [
    "var = pd.DataFrame(df.values)\n",
    "window = var.expanding()\n",
    "dataframe = pd.concat([window.min(), window.mean(), window.max(), var.shift(-1)], axis=1)\n",
    "dataframe.columns = ['min', 'mean', 'max', 't+1']\n",
    "print(dataframe.head(5))"
   ]
  },
  {
   "cell_type": "code",
   "execution_count": 131,
   "metadata": {
    "colab": {
     "base_uri": "https://localhost:8080/"
    },
    "id": "XhzI7lOvp5LE",
    "outputId": "bf1bfd97-24d9-431d-e781-6f1940426018"
   },
   "outputs": [
    {
     "name": "stdout",
     "output_type": "stream",
     "text": [
      "   month  day                                              Close\n",
      "0      1    3  Date\n",
      "2011-01-03    1422.599976\n",
      "2011-01-04    1...\n",
      "1      1    4  Date\n",
      "2011-01-03    1422.599976\n",
      "2011-01-04    1...\n",
      "2      1    5  Date\n",
      "2011-01-03    1422.599976\n",
      "2011-01-04    1...\n",
      "3      1    6  Date\n",
      "2011-01-03    1422.599976\n",
      "2011-01-04    1...\n",
      "4      1    7  Date\n",
      "2011-01-03    1422.599976\n",
      "2011-01-04    1...\n"
     ]
    }
   ],
   "source": [
    "dataframe = pd.DataFrame()\n",
    "dataframe['month'] = [df.index[i].month for i in range(len(df))]\n",
    "dataframe['day'] = [df.index[i].day for i in range(len(df))]\n",
    "dataframe['Close'] = [df['Close'] for i in range(len(df))]\n",
    "print(dataframe.head(5))"
   ]
  },
  {
   "cell_type": "code",
   "execution_count": 132,
   "metadata": {
    "colab": {
     "base_uri": "https://localhost:8080/",
     "height": 335
    },
    "id": "4RoTbcFLqh4v",
    "outputId": "6a0ae244-ffd2-449a-bd5c-2062c82fac62"
   },
   "outputs": [
    {
     "data": {
      "text/plain": [
       "<matplotlib.axes._subplots.AxesSubplot at 0x7f0a81d4c090>"
      ]
     },
     "execution_count": 132,
     "metadata": {
      "tags": []
     },
     "output_type": "execute_result"
    },
    {
     "data": {
      "image/png": "[encoded data removed]",
      "text/plain": [
       "<Figure size 1080x360 with 1 Axes>"
      ]
     },
     "metadata": {
      "needs_background": "light",
      "tags": []
     },
     "output_type": "display_data"
    }
   ],
   "source": [
    "\n",
    "df.plot(figsize=(15,5))\n"
   ]
  },
  {
   "cell_type": "code",
   "execution_count": 133,
   "metadata": {
    "colab": {
     "base_uri": "https://localhost:8080/",
     "height": 337
    },
    "id": "4AEniQF7qu1U",
    "outputId": "46346603-ce07-47a8-c90c-710fe8ff7cd3"
   },
   "outputs": [
    {
     "name": "stderr",
     "output_type": "stream",
     "text": [
      "/usr/local/lib/python3.7/dist-packages/seaborn/distributions.py:2557: FutureWarning: `distplot` is a deprecated function and will be removed in a future version. Please adapt your code to use either `displot` (a figure-level function with similar flexibility) or `histplot` (an axes-level function for histograms).\n",
      "  warnings.warn(msg, FutureWarning)\n"
     ]
    },
    {
     "data": {
      "text/plain": [
       "<matplotlib.axes._subplots.AxesSubplot at 0x7f0a81da9450>"
      ]
     },
     "execution_count": 133,
     "metadata": {
      "tags": []
     },
     "output_type": "execute_result"
    },
    {
     "data": {
      "image/png": "[encoded data removed]",
      "text/plain": [
       "<Figure size 432x288 with 1 Axes>"
      ]
     },
     "metadata": {
      "needs_background": "light",
      "tags": []
     },
     "output_type": "display_data"
    }
   ],
   "source": [
    "import seaborn as sns\n",
    "sns.distplot(df, hist=True, kde=True,\n",
    "             bins=20,              \n",
    "             color = 'blue', \n",
    "             hist_kws={'edgecolor':'black'},\n",
    "             kde_kws={'linewidth': 2})\n"
   ]
  },
  {
   "cell_type": "code",
   "execution_count": 134,
   "metadata": {
    "colab": {
     "base_uri": "https://localhost:8080/",
     "height": 227
    },
    "id": "9BohYt_7rFix",
    "outputId": "7f7921e0-ec20-4987-e802-013cfe4b2e78"
   },
   "outputs": [
    {
     "data": {
      "text/html": [
       "<div>\n",
       "<style scoped>\n",
       "    .dataframe tbody tr th:only-of-type {\n",
       "        vertical-align: middle;\n",
       "    }\n",
       "\n",
       "    .dataframe tbody tr th {\n",
       "        vertical-align: top;\n",
       "    }\n",
       "\n",
       "    .dataframe thead th {\n",
       "        text-align: right;\n",
       "    }\n",
       "</style>\n",
       "<table border=\"1\" class=\"dataframe\">\n",
       "  <thead>\n",
       "    <tr style=\"text-align: right;\">\n",
       "      <th></th>\n",
       "      <th>Close</th>\n",
       "    </tr>\n",
       "    <tr>\n",
       "      <th>Date</th>\n",
       "      <th></th>\n",
       "    </tr>\n",
       "  </thead>\n",
       "  <tbody>\n",
       "    <tr>\n",
       "      <th>2011-01-03</th>\n",
       "      <td>1422.599976</td>\n",
       "    </tr>\n",
       "    <tr>\n",
       "      <th>2011-01-04</th>\n",
       "      <td>1378.500000</td>\n",
       "    </tr>\n",
       "    <tr>\n",
       "      <th>2011-01-05</th>\n",
       "      <td>1373.400024</td>\n",
       "    </tr>\n",
       "    <tr>\n",
       "      <th>2011-01-06</th>\n",
       "      <td>1371.400024</td>\n",
       "    </tr>\n",
       "    <tr>\n",
       "      <th>2011-01-07</th>\n",
       "      <td>1368.500000</td>\n",
       "    </tr>\n",
       "  </tbody>\n",
       "</table>\n",
       "</div>"
      ],
      "text/plain": [
       "                  Close\n",
       "Date                   \n",
       "2011-01-03  1422.599976\n",
       "2011-01-04  1378.500000\n",
       "2011-01-05  1373.400024\n",
       "2011-01-06  1371.400024\n",
       "2011-01-07  1368.500000"
      ]
     },
     "execution_count": 134,
     "metadata": {
      "tags": []
     },
     "output_type": "execute_result"
    }
   ],
   "source": [
    "df.head(\n",
    ")"
   ]
  },
  {
   "cell_type": "code",
   "execution_count": 135,
   "metadata": {
    "colab": {
     "base_uri": "https://localhost:8080/",
     "height": 278
    },
    "id": "nFDl9Yn7rVhG",
    "outputId": "b7697863-9722-4a21-d47e-b6814ae42a35"
   },
   "outputs": [
    {
     "data": {
      "image/png": "[encoded data removed]",
      "text/plain": [
       "<Figure size 432x288 with 1 Axes>"
      ]
     },
     "metadata": {
      "needs_background": "light",
      "tags": []
     },
     "output_type": "display_data"
    }
   ],
   "source": [
    "lag_plot(df)\n",
    "pyplot.show()"
   ]
  },
  {
   "cell_type": "code",
   "execution_count": 136,
   "metadata": {
    "colab": {
     "base_uri": "https://localhost:8080/",
     "height": 444
    },
    "id": "jHaHVUSJrf-U",
    "outputId": "3465674f-4bf8-4fc7-800b-857ad39c8e5e"
   },
   "outputs": [
    {
     "data": {
      "image/png": "[encoded data removed]",
      "text/plain": [
       "<Figure size 1080x504 with 8 Axes>"
      ]
     },
     "metadata": {
      "needs_background": "light",
      "tags": []
     },
     "output_type": "display_data"
    }
   ],
   "source": [
    "values = pd.DataFrame(df.values)\n",
    "lags = 8\n",
    "columns = [values]\n",
    "for i in range(1,(lags + 1)):\n",
    "    columns.append(values.shift(i))\n",
    "dataframe = pd.concat(columns, axis=1)\n",
    "columns = ['t']\n",
    "for i in range(1,(lags + 1)):\n",
    "    columns.append('t-' + str(i))\n",
    "dataframe.columns = columns\n",
    "pyplot.figure(1,figsize=(15,7))\n",
    "for i in range(1,(lags + 1)):\n",
    "    ax = pyplot.subplot(240 + i)\n",
    "    ax.set_title('t vs t-' + str(i))\n",
    "    pyplot.scatter(x=dataframe['t'].values, y=dataframe['t-'+str(i)].values)\n",
    "pyplot.show()"
   ]
  },
  {
   "cell_type": "code",
   "execution_count": 137,
   "metadata": {
    "colab": {
     "base_uri": "https://localhost:8080/",
     "height": 301
    },
    "id": "Gfwyld8rrrJE",
    "outputId": "f20ee885-fb0a-475e-c3b6-8df0d97049b6"
   },
   "outputs": [
    {
     "data": {
      "text/plain": [
       "<matplotlib.axes._subplots.AxesSubplot at 0x7f0a81c682d0>"
      ]
     },
     "execution_count": 137,
     "metadata": {
      "tags": []
     },
     "output_type": "execute_result"
    },
    {
     "data": {
      "image/png": "[encoded data removed]",
      "text/plain": [
       "<Figure size 432x288 with 1 Axes>"
      ]
     },
     "metadata": {
      "needs_background": "light",
      "tags": []
     },
     "output_type": "display_data"
    }
   ],
   "source": [
    "autocorrelation_plot(df)"
   ]
  },
  {
   "cell_type": "code",
   "execution_count": 138,
   "metadata": {
    "id": "P86BBu3mTslN"
   },
   "outputs": [],
   "source": [
    "df=df.fillna(df.mean())"
   ]
  },
  {
   "cell_type": "code",
   "execution_count": 139,
   "metadata": {
    "colab": {
     "base_uri": "https://localhost:8080/",
     "height": 296
    },
    "id": "v7a1b8w0r2Ud",
    "outputId": "ec472b48-1b1e-4173-8bc9-1303d27aaab0"
   },
   "outputs": [
    {
     "data": {
      "text/plain": [
       "<matplotlib.axes._subplots.AxesSubplot at 0x7f0a4c005b90>"
      ]
     },
     "execution_count": 139,
     "metadata": {
      "tags": []
     },
     "output_type": "execute_result"
    },
    {
     "data": {
      "image/png": "[encoded data removed]",
      "text/plain": [
       "<Figure size 432x288 with 1 Axes>"
      ]
     },
     "metadata": {
      "needs_background": "light",
      "tags": []
     },
     "output_type": "display_data"
    }
   ],
   "source": [
    "upsampled = df.resample('D').mean()\n",
    "interpolated = upsampled.interpolate(method='quadratic')\n",
    "interpolated.plot()"
   ]
  },
  {
   "cell_type": "code",
   "execution_count": 140,
   "metadata": {
    "colab": {
     "base_uri": "https://localhost:8080/"
    },
    "id": "VjLEAgU9S5L_",
    "outputId": "621d6ce7-f220-4d7c-ef86-3ded385e740e"
   },
   "outputs": [
    {
     "name": "stdout",
     "output_type": "stream",
     "text": [
      "Requirement already satisfied: mxnet in /usr/local/lib/python3.7/dist-packages (1.8.0.post0)\n",
      "Requirement already satisfied: graphviz<0.9.0,>=0.8.1 in /usr/local/lib/python3.7/dist-packages (from mxnet) (0.8.4)\n",
      "Requirement already satisfied: requests<3,>=2.20.0 in /usr/local/lib/python3.7/dist-packages (from mxnet) (2.23.0)\n",
      "Requirement already satisfied: numpy<2.0.0,>1.16.0 in /usr/local/lib/python3.7/dist-packages (from mxnet) (1.19.5)\n",
      "Requirement already satisfied: idna<3,>=2.5 in /usr/local/lib/python3.7/dist-packages (from requests<3,>=2.20.0->mxnet) (2.10)\n",
      "Requirement already satisfied: urllib3!=1.25.0,!=1.25.1,<1.26,>=1.21.1 in /usr/local/lib/python3.7/dist-packages (from requests<3,>=2.20.0->mxnet) (1.24.3)\n",
      "Requirement already satisfied: certifi>=2017.4.17 in /usr/local/lib/python3.7/dist-packages (from requests<3,>=2.20.0->mxnet) (2020.12.5)\n",
      "Requirement already satisfied: chardet<4,>=3.0.2 in /usr/local/lib/python3.7/dist-packages (from requests<3,>=2.20.0->mxnet) (3.0.4)\n"
     ]
    }
   ],
   "source": [
    "pip install mxnet\n"
   ]
  },
  {
   "cell_type": "code",
   "execution_count": 141,
   "metadata": {
    "id": "4aPQmaCWSyaJ"
   },
   "outputs": [],
   "source": [
    "import time\n",
    "import numpy as np\n",
    "\n",
    "from mxnet import nd, autograd, gluon\n",
    "from mxnet.gluon import nn, rnn\n",
    "import mxnet as mx\n",
    "import datetime\n",
    "import seaborn as sns\n",
    "\n",
    "import matplotlib.pyplot as plt\n",
    "%matplotlib inline\n",
    "from sklearn.decomposition import PCA\n",
    "\n",
    "import math\n",
    "\n",
    "from sklearn.preprocessing import MinMaxScaler\n",
    "from sklearn.metrics import mean_squared_error\n",
    "from sklearn.preprocessing import StandardScaler\n",
    "\n",
    "import xgboost as xgb\n",
    "from sklearn.metrics import accuracy_score"
   ]
  },
  {
   "cell_type": "code",
   "execution_count": 142,
   "metadata": {
    "colab": {
     "base_uri": "https://localhost:8080/",
     "height": 287
    },
    "id": "9BRhGbzYwRok",
    "outputId": "ca6ce84f-46d6-46ac-a89e-651b6713b4f7"
   },
   "outputs": [
    {
     "data": {
      "text/html": [
       "<div>\n",
       "<style scoped>\n",
       "    .dataframe tbody tr th:only-of-type {\n",
       "        vertical-align: middle;\n",
       "    }\n",
       "\n",
       "    .dataframe tbody tr th {\n",
       "        vertical-align: top;\n",
       "    }\n",
       "\n",
       "    .dataframe thead th {\n",
       "        text-align: right;\n",
       "    }\n",
       "</style>\n",
       "<table border=\"1\" class=\"dataframe\">\n",
       "  <thead>\n",
       "    <tr style=\"text-align: right;\">\n",
       "      <th></th>\n",
       "      <th>Close</th>\n",
       "    </tr>\n",
       "  </thead>\n",
       "  <tbody>\n",
       "    <tr>\n",
       "      <th>count</th>\n",
       "      <td>2518.000000</td>\n",
       "    </tr>\n",
       "    <tr>\n",
       "      <th>mean</th>\n",
       "      <td>1401.598516</td>\n",
       "    </tr>\n",
       "    <tr>\n",
       "      <th>std</th>\n",
       "      <td>215.428920</td>\n",
       "    </tr>\n",
       "    <tr>\n",
       "      <th>min</th>\n",
       "      <td>1050.800049</td>\n",
       "    </tr>\n",
       "    <tr>\n",
       "      <th>25%</th>\n",
       "      <td>1243.724976</td>\n",
       "    </tr>\n",
       "    <tr>\n",
       "      <th>50%</th>\n",
       "      <td>1318.900024</td>\n",
       "    </tr>\n",
       "    <tr>\n",
       "      <th>75%</th>\n",
       "      <td>1572.325012</td>\n",
       "    </tr>\n",
       "    <tr>\n",
       "      <th>max</th>\n",
       "      <td>2051.500000</td>\n",
       "    </tr>\n",
       "  </tbody>\n",
       "</table>\n",
       "</div>"
      ],
      "text/plain": [
       "             Close\n",
       "count  2518.000000\n",
       "mean   1401.598516\n",
       "std     215.428920\n",
       "min    1050.800049\n",
       "25%    1243.724976\n",
       "50%    1318.900024\n",
       "75%    1572.325012\n",
       "max    2051.500000"
      ]
     },
     "execution_count": 142,
     "metadata": {
      "tags": []
     },
     "output_type": "execute_result"
    }
   ],
   "source": [
    "df.describe()"
   ]
  },
  {
   "cell_type": "markdown",
   "metadata": {
    "id": "rmrVhdTlMxhx"
   },
   "source": [
    "# BUILDING MODEL \n",
    "\n",
    "## LSTM-GRU\n"
   ]
  },
  {
   "cell_type": "code",
   "execution_count": 143,
   "metadata": {
    "id": "hiTjga9OMxE_"
   },
   "outputs": [],
   "source": [
    "model = tf.keras.Sequential()\n",
    "model.add(tf.keras.layers.GRU(5,activation = 'relu', input_shape=(1,1)))\n",
    "model.add(Dense(100,activation='relu'))\n",
    "model.add(Dense(1))\n",
    "model.compile(loss='mse',optimizer='adam',metrics=['mae'])\n"
   ]
  },
  {
   "cell_type": "markdown",
   "metadata": {
    "id": "o9ZlHyST5TT7"
   },
   "source": [
    "## LSTM CNN Attention"
   ]
  },
  {
   "cell_type": "code",
   "execution_count": 144,
   "metadata": {
    "colab": {
     "base_uri": "https://localhost:8080/"
    },
    "id": "QFYHM_XsOxZQ",
    "outputId": "fec58b9c-9a93-4e82-d742-47600f1c6908"
   },
   "outputs": [
    {
     "name": "stdout",
     "output_type": "stream",
     "text": [
      "Requirement already satisfied: keras-attention in /usr/local/lib/python3.7/dist-packages (1.0.0)\n",
      "Requirement already satisfied: keras in /usr/local/lib/python3.7/dist-packages (from keras-attention) (2.4.3)\n",
      "Requirement already satisfied: h5py in /usr/local/lib/python3.7/dist-packages (from keras->keras-attention) (2.10.0)\n",
      "Requirement already satisfied: scipy>=0.14 in /usr/local/lib/python3.7/dist-packages (from keras->keras-attention) (1.4.1)\n",
      "Requirement already satisfied: numpy>=1.9.1 in /usr/local/lib/python3.7/dist-packages (from keras->keras-attention) (1.19.5)\n",
      "Requirement already satisfied: pyyaml in /usr/local/lib/python3.7/dist-packages (from keras->keras-attention) (3.13)\n",
      "Requirement already satisfied: six in /usr/local/lib/python3.7/dist-packages (from h5py->keras->keras-attention) (1.15.0)\n",
      "Requirement already satisfied: keras-self-attention in /usr/local/lib/python3.7/dist-packages (0.49.0)\n",
      "Requirement already satisfied: Keras in /usr/local/lib/python3.7/dist-packages (from keras-self-attention) (2.4.3)\n",
      "Requirement already satisfied: numpy in /usr/local/lib/python3.7/dist-packages (from keras-self-attention) (1.19.5)\n",
      "Requirement already satisfied: pyyaml in /usr/local/lib/python3.7/dist-packages (from Keras->keras-self-attention) (3.13)\n",
      "Requirement already satisfied: scipy>=0.14 in /usr/local/lib/python3.7/dist-packages (from Keras->keras-self-attention) (1.4.1)\n",
      "Requirement already satisfied: h5py in /usr/local/lib/python3.7/dist-packages (from Keras->keras-self-attention) (2.10.0)\n",
      "Requirement already satisfied: six in /usr/local/lib/python3.7/dist-packages (from h5py->Keras->keras-self-attention) (1.15.0)\n"
     ]
    }
   ],
   "source": [
    "!pip install keras-attention\n",
    "!pip install keras-self-attention"
   ]
  },
  {
   "cell_type": "code",
   "execution_count": 145,
   "metadata": {
    "id": "aciFxnch5no_"
   },
   "outputs": [],
   "source": [
    "import os\n",
    "import time\n",
    "import warnings\n",
    "import numpy as np\n",
    "import pandas as pd\n",
    "import operator\n",
    "from functools import reduce\n",
    "import h5py\n",
    "from numpy import newaxis\n",
    "from keras.layers.core import Dense, Activation, Dropout\n",
    "from keras.layers import Convolution1D, MaxPooling1D, Flatten,  Embedding,Bidirectional, GRU\n",
    "from keras.layers import Conv1D, GlobalMaxPooling1D, merge\n",
    "from keras.layers.recurrent import LSTM\n",
    "from keras.models import Sequential\n",
    "from keras_self_attention import SeqSelfAttention\n",
    "import matplotlib.pyplot as plt\n",
    "\n",
    "from sklearn.preprocessing import StandardScaler, Normalizer\n",
    "from sklearn.metrics import mean_squared_error, mean_absolute_error\n",
    "from math import sqrt\n"
   ]
  },
  {
   "cell_type": "code",
   "execution_count": 146,
   "metadata": {
    "id": "0AtdUtYRR4a2"
   },
   "outputs": [],
   "source": [
    "def create_dataset(dataset, look_back=1, columns = ['Close']):\n",
    "    dataX, dataY = [], []\n",
    "    for i in range(len(dataset.index)):\n",
    "        if i < look_back:\n",
    "            continue\n",
    "        a = None\n",
    "        for c in columns:\n",
    "            b = dataset.loc[dataset.index[i-look_back:i], c].to_numpy() \n",
    "            if a is None:\n",
    "                a = b\n",
    "            else:\n",
    "                a = np.append(a,b)\n",
    "        dataX.append(a)\n",
    "        dataY.append(dataset.loc[dataset.index[i-look_back], columns].to_numpy())\n",
    "    return np.array(dataX), np.array(dataY)"
   ]
  },
  {
   "cell_type": "code",
   "execution_count": 147,
   "metadata": {
    "colab": {
     "base_uri": "https://localhost:8080/",
     "height": 1000
    },
    "id": "6F_029-65SBZ",
    "outputId": "5bd9639d-5bba-4cd1-f0f7-4f1465e909fd"
   },
   "outputs": [
    {
     "name": "stdout",
     "output_type": "stream",
     "text": [
      "Date\n",
      "2011-01-03    0.097506\n",
      "2011-01-04   -0.107242\n",
      "2011-01-05   -0.130921\n",
      "2011-01-06   -0.140206\n",
      "2011-01-07   -0.153671\n",
      "                ...   \n",
      "2020-12-24    0.000000\n",
      "2020-12-28    2.208134\n",
      "2020-12-29    2.219741\n",
      "2020-12-30    2.272205\n",
      "2020-12-31    2.281955\n",
      "Name: Close, Length: 2518, dtype: float64\n",
      "Model: \"sequential_17\"\n",
      "_________________________________________________________________\n",
      "Layer (type)                 Output Shape              Param #   \n",
      "=================================================================\n",
      "gru_3 (GRU)                  (None, 7, 6)              162       \n",
      "_________________________________________________________________\n",
      "Attention (SeqSelfAttention) (None, None, 6)           449       \n",
      "_________________________________________________________________\n",
      "conv1d_8 (Conv1D)            (None, None, 64)          832       \n",
      "_________________________________________________________________\n",
      "max_pooling1d_7 (MaxPooling1 (None, None, 64)          0         \n",
      "_________________________________________________________________\n",
      "dropout_5 (Dropout)          (None, None, 64)          0         \n",
      "_________________________________________________________________\n",
      "activation_10 (Activation)   (None, None, 64)          0         \n",
      "_________________________________________________________________\n",
      "dense_9 (Dense)              (None, None, 1)           65        \n",
      "_________________________________________________________________\n",
      "activation_11 (Activation)   (None, None, 1)           0         \n",
      "=================================================================\n",
      "Total params: 1,508\n",
      "Trainable params: 1,508\n",
      "Non-trainable params: 0\n",
      "_________________________________________________________________\n",
      "None\n",
      "Epoch 1/100\n",
      "26/26 [==============================] - 3s 8ms/step - loss: 0.8690\n",
      "Epoch 2/100\n",
      "26/26 [==============================] - 0s 9ms/step - loss: 0.4860\n",
      "Epoch 3/100\n",
      "26/26 [==============================] - 0s 8ms/step - loss: 0.2470\n",
      "Epoch 4/100\n",
      "26/26 [==============================] - 0s 9ms/step - loss: 0.1049\n",
      "Epoch 5/100\n",
      "26/26 [==============================] - 0s 9ms/step - loss: 0.0598\n",
      "Epoch 6/100\n",
      "26/26 [==============================] - 0s 9ms/step - loss: 0.0538\n",
      "Epoch 7/100\n",
      "26/26 [==============================] - 0s 8ms/step - loss: 0.0549\n",
      "Epoch 8/100\n",
      "26/26 [==============================] - 0s 8ms/step - loss: 0.0537\n",
      "Epoch 9/100\n",
      "26/26 [==============================] - 0s 9ms/step - loss: 0.0537\n",
      "Epoch 10/100\n",
      "26/26 [==============================] - 0s 9ms/step - loss: 0.0502\n",
      "Epoch 11/100\n",
      "26/26 [==============================] - 0s 9ms/step - loss: 0.0502\n",
      "Epoch 12/100\n",
      "26/26 [==============================] - 0s 8ms/step - loss: 0.0498\n",
      "Epoch 13/100\n",
      "26/26 [==============================] - 0s 8ms/step - loss: 0.0488\n",
      "Epoch 14/100\n",
      "26/26 [==============================] - 0s 9ms/step - loss: 0.0503\n",
      "Epoch 15/100\n",
      "26/26 [==============================] - 0s 9ms/step - loss: 0.0484\n",
      "Epoch 16/100\n",
      "26/26 [==============================] - 0s 9ms/step - loss: 0.0470\n",
      "Epoch 17/100\n",
      "26/26 [==============================] - 0s 9ms/step - loss: 0.0446\n",
      "Epoch 18/100\n",
      "26/26 [==============================] - 0s 8ms/step - loss: 0.0429\n",
      "Epoch 19/100\n",
      "26/26 [==============================] - 0s 9ms/step - loss: 0.0421\n",
      "Epoch 20/100\n",
      "26/26 [==============================] - 0s 8ms/step - loss: 0.0409\n",
      "Epoch 21/100\n",
      "26/26 [==============================] - 0s 9ms/step - loss: 0.0414\n",
      "Epoch 22/100\n",
      "26/26 [==============================] - 0s 9ms/step - loss: 0.0408\n",
      "Epoch 23/100\n",
      "26/26 [==============================] - 0s 8ms/step - loss: 0.0398\n",
      "Epoch 24/100\n",
      "26/26 [==============================] - 0s 9ms/step - loss: 0.0411\n",
      "Epoch 25/100\n",
      "26/26 [==============================] - 0s 8ms/step - loss: 0.0380\n",
      "Epoch 26/100\n",
      "26/26 [==============================] - 0s 8ms/step - loss: 0.0405\n",
      "Epoch 27/100\n",
      "26/26 [==============================] - 0s 9ms/step - loss: 0.0393\n",
      "Epoch 28/100\n",
      "26/26 [==============================] - 0s 8ms/step - loss: 0.0412\n",
      "Epoch 29/100\n",
      "26/26 [==============================] - 0s 9ms/step - loss: 0.0427\n",
      "Epoch 30/100\n",
      "26/26 [==============================] - 0s 10ms/step - loss: 0.0455\n",
      "Epoch 31/100\n",
      "26/26 [==============================] - 0s 8ms/step - loss: 0.0489\n",
      "Epoch 32/100\n",
      "26/26 [==============================] - 0s 9ms/step - loss: 0.0518\n",
      "Epoch 33/100\n",
      "26/26 [==============================] - 0s 9ms/step - loss: 0.0568\n",
      "Epoch 34/100\n",
      "26/26 [==============================] - 0s 8ms/step - loss: 0.0552\n",
      "Epoch 35/100\n",
      "26/26 [==============================] - 0s 8ms/step - loss: 0.0632\n",
      "Epoch 36/100\n",
      "26/26 [==============================] - 0s 9ms/step - loss: 0.0548\n",
      "Epoch 37/100\n",
      "26/26 [==============================] - 0s 9ms/step - loss: 0.0598\n",
      "Epoch 38/100\n",
      "26/26 [==============================] - 0s 9ms/step - loss: 0.0497\n",
      "Epoch 39/100\n",
      "26/26 [==============================] - 0s 9ms/step - loss: 0.0472\n",
      "Epoch 40/100\n",
      "26/26 [==============================] - 0s 9ms/step - loss: 0.0429\n",
      "Epoch 41/100\n",
      "26/26 [==============================] - 0s 9ms/step - loss: 0.0397\n",
      "Epoch 42/100\n",
      "26/26 [==============================] - 0s 9ms/step - loss: 0.0393\n",
      "Epoch 43/100\n",
      "26/26 [==============================] - 0s 9ms/step - loss: 0.0372\n",
      "Epoch 44/100\n",
      "26/26 [==============================] - 0s 9ms/step - loss: 0.0362\n",
      "Epoch 45/100\n",
      "26/26 [==============================] - 0s 9ms/step - loss: 0.0390\n",
      "Epoch 46/100\n",
      "26/26 [==============================] - 0s 8ms/step - loss: 0.0389\n",
      "Epoch 47/100\n",
      "26/26 [==============================] - 0s 9ms/step - loss: 0.0393\n",
      "Epoch 48/100\n",
      "26/26 [==============================] - 0s 8ms/step - loss: 0.0385\n",
      "Epoch 49/100\n",
      "26/26 [==============================] - 0s 9ms/step - loss: 0.0420\n",
      "Epoch 50/100\n",
      "26/26 [==============================] - 0s 9ms/step - loss: 0.0425\n",
      "Epoch 51/100\n",
      "26/26 [==============================] - 0s 9ms/step - loss: 0.0411\n",
      "Epoch 52/100\n",
      "26/26 [==============================] - 0s 8ms/step - loss: 0.0395\n",
      "Epoch 53/100\n",
      "26/26 [==============================] - 0s 9ms/step - loss: 0.0417\n",
      "Epoch 54/100\n",
      "26/26 [==============================] - 0s 9ms/step - loss: 0.0386\n",
      "Epoch 55/100\n",
      "26/26 [==============================] - 0s 9ms/step - loss: 0.0420\n",
      "Epoch 56/100\n",
      "26/26 [==============================] - 0s 9ms/step - loss: 0.0440\n",
      "Epoch 57/100\n",
      "26/26 [==============================] - 0s 9ms/step - loss: 0.0483\n",
      "Epoch 58/100\n",
      "26/26 [==============================] - 0s 8ms/step - loss: 0.0478\n",
      "Epoch 59/100\n",
      "26/26 [==============================] - 0s 9ms/step - loss: 0.0531\n",
      "Epoch 60/100\n",
      "26/26 [==============================] - 0s 9ms/step - loss: 0.0474\n",
      "Epoch 61/100\n",
      "26/26 [==============================] - 0s 8ms/step - loss: 0.0512\n",
      "Epoch 62/100\n",
      "26/26 [==============================] - 0s 9ms/step - loss: 0.0464\n",
      "Epoch 63/100\n",
      "26/26 [==============================] - 0s 9ms/step - loss: 0.0492\n",
      "Epoch 64/100\n",
      "26/26 [==============================] - 0s 9ms/step - loss: 0.0422\n",
      "Epoch 65/100\n",
      "26/26 [==============================] - 0s 9ms/step - loss: 0.0427\n",
      "Epoch 66/100\n",
      "26/26 [==============================] - 0s 9ms/step - loss: 0.0415\n",
      "Epoch 67/100\n",
      "26/26 [==============================] - 0s 9ms/step - loss: 0.0422\n",
      "Epoch 68/100\n",
      "26/26 [==============================] - 0s 9ms/step - loss: 0.0401\n",
      "Epoch 69/100\n",
      "26/26 [==============================] - 0s 9ms/step - loss: 0.0407\n",
      "Epoch 70/100\n",
      "26/26 [==============================] - 0s 8ms/step - loss: 0.0379\n",
      "Epoch 71/100\n",
      "26/26 [==============================] - 0s 9ms/step - loss: 0.0396\n",
      "Epoch 72/100\n",
      "26/26 [==============================] - 0s 9ms/step - loss: 0.0397\n",
      "Epoch 73/100\n",
      "26/26 [==============================] - 0s 9ms/step - loss: 0.0420\n",
      "Epoch 74/100\n",
      "26/26 [==============================] - 0s 8ms/step - loss: 0.0375\n",
      "Epoch 75/100\n",
      "26/26 [==============================] - 0s 9ms/step - loss: 0.0373\n",
      "Epoch 76/100\n",
      "26/26 [==============================] - 0s 9ms/step - loss: 0.0363\n",
      "Epoch 77/100\n",
      "26/26 [==============================] - 0s 10ms/step - loss: 0.0381\n",
      "Epoch 78/100\n",
      "26/26 [==============================] - 0s 9ms/step - loss: 0.0388\n",
      "Epoch 79/100\n",
      "26/26 [==============================] - 0s 9ms/step - loss: 0.0405\n",
      "Epoch 80/100\n",
      "26/26 [==============================] - 0s 9ms/step - loss: 0.0392\n",
      "Epoch 81/100\n",
      "26/26 [==============================] - 0s 9ms/step - loss: 0.0423\n",
      "Epoch 82/100\n",
      "26/26 [==============================] - 0s 9ms/step - loss: 0.0414\n",
      "Epoch 83/100\n",
      "26/26 [==============================] - 0s 9ms/step - loss: 0.0440\n",
      "Epoch 84/100\n",
      "26/26 [==============================] - 0s 9ms/step - loss: 0.0416\n",
      "Epoch 85/100\n",
      "26/26 [==============================] - 0s 9ms/step - loss: 0.0451\n",
      "Epoch 86/100\n",
      "26/26 [==============================] - 0s 9ms/step - loss: 0.0419\n",
      "Epoch 87/100\n",
      "26/26 [==============================] - 0s 9ms/step - loss: 0.0434\n",
      "Epoch 88/100\n",
      "26/26 [==============================] - 0s 9ms/step - loss: 0.0395\n",
      "Epoch 89/100\n",
      "26/26 [==============================] - 0s 9ms/step - loss: 0.0418\n",
      "Epoch 90/100\n",
      "26/26 [==============================] - 0s 9ms/step - loss: 0.0398\n",
      "Epoch 91/100\n",
      "26/26 [==============================] - 0s 9ms/step - loss: 0.0431\n",
      "Epoch 92/100\n",
      "26/26 [==============================] - 0s 9ms/step - loss: 0.0386\n",
      "Epoch 93/100\n",
      "26/26 [==============================] - 0s 9ms/step - loss: 0.0412\n",
      "Epoch 94/100\n",
      "26/26 [==============================] - 0s 9ms/step - loss: 0.0387\n",
      "Epoch 95/100\n",
      "26/26 [==============================] - 0s 8ms/step - loss: 0.0405\n",
      "Epoch 96/100\n",
      "26/26 [==============================] - 0s 9ms/step - loss: 0.0383\n",
      "Epoch 97/100\n",
      "26/26 [==============================] - 0s 10ms/step - loss: 0.0391\n",
      "Epoch 98/100\n",
      "26/26 [==============================] - 0s 10ms/step - loss: 0.0399\n",
      "Epoch 99/100\n",
      "26/26 [==============================] - 0s 10ms/step - loss: 0.0414\n",
      "Epoch 100/100\n",
      "26/26 [==============================] - 0s 9ms/step - loss: 0.0397\n"
     ]
    },
    {
     "name": "stderr",
     "output_type": "stream",
     "text": [
      "The PostScript backend does not support transparency; partially transparent artists will be rendered opaque.\n",
      "The PostScript backend does not support transparency; partially transparent artists will be rendered opaque.\n"
     ]
    },
    {
     "name": "stdout",
     "output_type": "stream",
     "text": [
      "The RMSE is  7.786148e+01\n",
      "The RMAE is  7.530844e+00\n",
      "The MAPE is  3.299578e+00\n"
     ]
    },
    {
     "data": {
      "image/png": "[encoded data removed]",
      "text/plain": [
       "<Figure size 432x288 with 1 Axes>"
      ]
     },
     "metadata": {
      "needs_background": "light",
      "tags": []
     },
     "output_type": "display_data"
    }
   ],
   "source": [
    "look_back = 7 # 10, 13\n",
    "sc = StandardScaler()  \n",
    "df.loc[:, 'Close'] = sc.fit_transform(df.Close.values.reshape(-1,1)) # fit.transform()\n",
    "print(df.loc[:, 'Close'])\n",
    "\n",
    "# Create training data\n",
    "#train_df = df.loc[df.index < pd.to_datetime('2010-01-01')]\n",
    "train_df = df.loc[df.index < df.index[int(len(df.index)*0.8)]]\n",
    "train_x, train_y = create_dataset(train_df, look_back=look_back)\n",
    "\n",
    "\n",
    "# Construct the whole LSTM + CNN\n",
    "model = Sequential()\n",
    "# LSTM\n",
    "model.add(GRU(6,input_shape = (look_back, 1), input_dim=1 ,   return_sequences=True))\n",
    "\n",
    "#model.add(LSTM(input_shape = (look_back,1), input_dim=1, output_dim=6, return_sequences=True))\n",
    "#model.add(Dense(1))\n",
    "#model.add(Activation('relu')) # ReLU : y = max(0,x)\n",
    "\n",
    "# Attention Mechanism\n",
    "model.add(SeqSelfAttention(attention_activation='sigmoid', name='Attention'))\n",
    "\n",
    "# CNN\n",
    "model.add(Convolution1D(input_shape = (look_back,1),\n",
    "                        filters=64,# 32,128\n",
    "                       kernel_size=2,\n",
    "                       activation='relu',\n",
    "                        ))\n",
    "#model.add(MaxPooling1D(pool_length=2)) \n",
    "\n",
    "'''model.add(Convolution1D(input_shape = (look_back,1),\n",
    "                        nb_filter=64,\n",
    "                        filter_length=2,\n",
    "                        border_mode='valid',\n",
    "                        activation='relu',\n",
    "                        subsample_length=1))'''\n",
    "model.add(MaxPooling1D(pool_size=(2)))\n",
    "\n",
    "model.add(Dropout(0.25))\n",
    "\n",
    "#model.add(Dense(250)) \n",
    "#model.add(Dropout(0.25,input_shape=(2,)))\n",
    "model.add(Activation('relu')) # ReLU : y = max(0,x)\n",
    "model.add(Dense(1))\n",
    "model.add(Activation('linear')) # Linear : y = x\n",
    "\n",
    "# Print whole structure of the model\n",
    "print(model.summary())\n",
    "\n",
    "# training the train data with n epoch\n",
    "model.compile(loss=\"mse\", optimizer=\"adam\") # adam, rmsprop\n",
    "result = model.fit(np.atleast_3d(np.array(train_x)),\n",
    "          np.atleast_3d(train_y),\n",
    "          epochs=100,\n",
    "          batch_size=80, verbose=1, shuffle=False)\n",
    "\n",
    "\n",
    "with open('data_lstm_attention_cnn_palladium.txt','w') as f:\n",
    "    f.write(str(result.history))\n",
    "\n",
    "model.save('lstm_attention_cnn_palladium.h5')\n",
    "\n",
    "\n",
    "# Make prediction and specify on the line chart\n",
    "predictors = ['Close']\n",
    "df['Pred'] = df.loc[df.index[0], 'Close']\n",
    "for i in range(len(df.index)):\n",
    "    if i < look_back:\n",
    "        continue\n",
    "    a = None\n",
    "    for c in predictors:\n",
    "        b = df.loc[df.index[i-look_back:i], c].to_numpy()\n",
    "        if a is None:\n",
    "            a = b\n",
    "        else:\n",
    "            a = np.append(a,b)\n",
    "        a = a\n",
    "    y = model.predict(a.reshape(1,look_back*len(predictors),1)) \n",
    "    df.loc[df.index[i], 'Pred']=y[0][0]\n",
    "\n",
    "df.loc[:, 'Close'] = sc.inverse_transform(df.loc[:, 'Close']) \n",
    "df.loc[:, 'Pred'] = sc.inverse_transform(df.loc[:, 'Pred'])\n",
    "\n",
    "def mape(y_true, y_pred):\n",
    "    n = len(y_true)\n",
    "    mape = sum(np.abs((y_true - y_pred) / y_true)) / n * 100\n",
    "    return mape\n",
    "\n",
    "# present the line chart and some parameters like MSE, which reflects the accuracy of the model in sample or out sample\n",
    "\n",
    "plt.grid(ls='--')\n",
    "plt.plot(df.loc[df.index < df.index[int(len(df.index)*0.8)], 'Pred'], 'orange', label = 'Insample Prediction')\n",
    "plt.plot(df.loc[df.index >= df.index[int(len(df.index)*0.8)], 'Pred'], 'g', label = 'Outsample Prediction')\n",
    "plt.plot(df.Close ,'b', label = 'Price')\n",
    "plt.xlabel('Date')\n",
    "plt.ylabel('Closing Price')\n",
    "#print('%e'%mean_squared_error(df.loc[df.index < pd.to_datetime('2010-01-01'),'Close'],df.loc[df.index < pd.to_datetime('2010-01-01'),'Pred']))\n",
    "#print('%e'%mean_squared_error(df.loc[df.index >= pd.to_datetime('2010-01-01'),'Close'],df.loc[df.index >= pd.to_datetime('2010-01-01'),'Pred']))\n",
    "print('The RMSE is ','%e'%sqrt(mean_squared_error(df.loc[df.index >= df.index[int(len(df.index)*0.8)], 'Close'], df.loc[df.index >= df.index[int(len(df.index)*0.8)], 'Pred'])))\n",
    "print('The RMAE is ','%e'%sqrt(mean_absolute_error(df.loc[df.index >= df.index[int(len(df.index)*0.8)], 'Close'], df.loc[df.index >= df.index[int(len(df.index)*0.8)], 'Pred'])))\n",
    "print('The MAPE is ','%e'%mape(df.loc[df.index >= df.index[int(len(df.index)*0.8)], 'Close'], df.loc[df.index >= df.index[int(len(df.index)*0.8)], 'Pred']))\n",
    "\n",
    "\n",
    "plt.legend()\n",
    "plt.savefig(\"lstm_attention_cnn_palladium.eps\", format='eps', dpi=1000)\n",
    "plt.show()\n"
   ]
  },
  {
   "cell_type": "code",
   "execution_count": 148,
   "metadata": {
    "colab": {
     "base_uri": "https://localhost:8080/",
     "height": 314
    },
    "id": "fGwYwHnmPJYr",
    "outputId": "48cda331-6a61-4c41-d515-28a49887a009"
   },
   "outputs": [
    {
     "name": "stderr",
     "output_type": "stream",
     "text": [
      "The PostScript backend does not support transparency; partially transparent artists will be rendered opaque.\n",
      "The PostScript backend does not support transparency; partially transparent artists will be rendered opaque.\n"
     ]
    },
    {
     "data": {
      "image/png": "[encoded data removed]",
      "text/plain": [
       "<Figure size 432x288 with 1 Axes>"
      ]
     },
     "metadata": {
      "needs_background": "light",
      "tags": []
     },
     "output_type": "display_data"
    }
   ],
   "source": [
    "\n",
    "# sketch loss\n",
    "#plt.cla() # clear the axis\n",
    "plt.grid(ls='--')\n",
    "plt.plot(result.epoch,result.history['loss'],label='LOSS',c='r',lw=3)\n",
    "#plt.scatter(result.epoch,result.history['loss'],s=15,c='r')\n",
    "plt.xlabel('Number of Epochs')\n",
    "plt.ylabel('Loss')\n",
    "plt.legend(loc='upper right', frameon=True, edgecolor='black')\n",
    "plt.savefig(\"LC_loss.eps\", format='eps', dpi=1000)\n",
    "plt. close(0)\n"
   ]
  },
  {
   "cell_type": "code",
   "execution_count": 148,
   "metadata": {
    "id": "wOYOs7ngWVKw"
   },
   "outputs": [],
   "source": []
  }
 ],
 "metadata": {
  "colab": {
   "name": "Metal_Options.ipynb",
   "provenance": []
  },
  "kernelspec": {
   "display_name": "Python 3",
   "language": "python",
   "name": "python3"
  },
  "language_info": {
   "codemirror_mode": {
    "name": "ipython",
    "version": 3
   },
   "file_extension": ".py",
   "mimetype": "text/x-python",
   "name": "python",
   "nbconvert_exporter": "python",
   "pygments_lexer": "ipython3",
   "version": "3.9.2"
  }
 },
 "nbformat": 4,
 "nbformat_minor": 1
}
