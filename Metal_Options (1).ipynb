{
 "cells": [
  {
   "cell_type": "code",
   "execution_count": 1,
   "metadata": {
    "id": "At0qq6bzsVVk"
   },
   "outputs": [],
   "source": [
    "import numpy as np\n",
    "import pandas as pd\n",
    "import matplotlib.pyplot as plt\n",
    "import tensorflow as tf\n",
    "from sklearn.model_selection import train_test_split\n"
   ]
  },
  {
   "cell_type": "code",
   "execution_count": 2,
   "metadata": {
    "colab": {
     "base_uri": "https://localhost:8080/"
    },
    "id": "J9HwTbblmbfo",
    "outputId": "9cfef8b1-954b-4481-b1f2-6ae641c6c78e"
   },
   "outputs": [
    {
     "name": "stderr",
     "output_type": "stream",
     "text": [
      "/usr/local/lib/python3.7/dist-packages/statsmodels/tools/_testing.py:19: FutureWarning: pandas.util.testing is deprecated. Use the functions in the public API at pandas.testing instead.\n",
      "  import pandas.util.testing as tm\n"
     ]
    }
   ],
   "source": [
    "# Import required libraries\n",
    "import pandas as pd\n",
    "import numpy as np\n",
    "from pandas.plotting import lag_plot\n",
    "from pandas.plotting import autocorrelation_plot\n",
    "from matplotlib import pyplot\n",
    "from statsmodels.tsa.seasonal import seasonal_decompose\n",
    "from statsmodels.tsa.stattools import adfuller\n",
    "import math as math\n",
    "from scipy.stats import boxcox\n",
    "from random import randrange\n",
    "from random import seed\n",
    "from random import random\n",
    "from random import gauss"
   ]
  },
  {
   "cell_type": "code",
   "execution_count": 71,
   "metadata": {
    "id": "66tOYdNmsiDZ"
   },
   "outputs": [],
   "source": [
    "df = pd.read_csv(\"https://raw.githubusercontent.com/shauryashivam/commodity-futures/main/Dataset/Gold5.csv?token=AMF2Z3LBLLFT62EDL6NOAGDARINHK\",header=0, index_col=0, parse_dates=True,\n",
    "squeeze=True)"
   ]
  },
  {
   "cell_type": "code",
   "execution_count": 4,
   "metadata": {
    "id": "RJDwoCmUn_Qt"
   },
   "outputs": [],
   "source": [
    "df.drop(columns=['Open','High','Low','Adj Close','Volume'],axis=1,inplace=True)"
   ]
  },
  {
   "cell_type": "code",
   "execution_count": 5,
   "metadata": {
    "colab": {
     "base_uri": "https://localhost:8080/",
     "height": 227
    },
    "id": "-NT7e0NmstC-",
    "outputId": "487b8ed1-b340-4a5a-f234-e7eddf012d87"
   },
   "outputs": [
    {
     "data": {
      "text/html": [
       "<div>\n",
       "<style scoped>\n",
       "    .dataframe tbody tr th:only-of-type {\n",
       "        vertical-align: middle;\n",
       "    }\n",
       "\n",
       "    .dataframe tbody tr th {\n",
       "        vertical-align: top;\n",
       "    }\n",
       "\n",
       "    .dataframe thead th {\n",
       "        text-align: right;\n",
       "    }\n",
       "</style>\n",
       "<table border=\"1\" class=\"dataframe\">\n",
       "  <thead>\n",
       "    <tr style=\"text-align: right;\">\n",
       "      <th></th>\n",
       "      <th>Close</th>\n",
       "    </tr>\n",
       "    <tr>\n",
       "      <th>Date</th>\n",
       "      <th></th>\n",
       "    </tr>\n",
       "  </thead>\n",
       "  <tbody>\n",
       "    <tr>\n",
       "      <th>2016-01-04</th>\n",
       "      <td>1075.099976</td>\n",
       "    </tr>\n",
       "    <tr>\n",
       "      <th>2016-01-05</th>\n",
       "      <td>1078.400024</td>\n",
       "    </tr>\n",
       "    <tr>\n",
       "      <th>2016-01-06</th>\n",
       "      <td>1091.900024</td>\n",
       "    </tr>\n",
       "    <tr>\n",
       "      <th>2016-01-07</th>\n",
       "      <td>1107.699951</td>\n",
       "    </tr>\n",
       "    <tr>\n",
       "      <th>2016-01-08</th>\n",
       "      <td>1097.800049</td>\n",
       "    </tr>\n",
       "  </tbody>\n",
       "</table>\n",
       "</div>"
      ],
      "text/plain": [
       "                  Close\n",
       "Date                   \n",
       "2016-01-04  1075.099976\n",
       "2016-01-05  1078.400024\n",
       "2016-01-06  1091.900024\n",
       "2016-01-07  1107.699951\n",
       "2016-01-08  1097.800049"
      ]
     },
     "execution_count": 5,
     "metadata": {
      "tags": []
     },
     "output_type": "execute_result"
    }
   ],
   "source": [
    "df.head()"
   ]
  },
  {
   "cell_type": "code",
   "execution_count": 6,
   "metadata": {
    "colab": {
     "base_uri": "https://localhost:8080/",
     "height": 287
    },
    "id": "7T0ysN1wnH1s",
    "outputId": "cb2f792b-d6b1-42a9-d1b8-4db798bcd37d"
   },
   "outputs": [
    {
     "data": {
      "text/html": [
       "<div>\n",
       "<style scoped>\n",
       "    .dataframe tbody tr th:only-of-type {\n",
       "        vertical-align: middle;\n",
       "    }\n",
       "\n",
       "    .dataframe tbody tr th {\n",
       "        vertical-align: top;\n",
       "    }\n",
       "\n",
       "    .dataframe thead th {\n",
       "        text-align: right;\n",
       "    }\n",
       "</style>\n",
       "<table border=\"1\" class=\"dataframe\">\n",
       "  <thead>\n",
       "    <tr style=\"text-align: right;\">\n",
       "      <th></th>\n",
       "      <th>Close</th>\n",
       "    </tr>\n",
       "  </thead>\n",
       "  <tbody>\n",
       "    <tr>\n",
       "      <th>count</th>\n",
       "      <td>1246.000000</td>\n",
       "    </tr>\n",
       "    <tr>\n",
       "      <th>mean</th>\n",
       "      <td>1388.680578</td>\n",
       "    </tr>\n",
       "    <tr>\n",
       "      <th>std</th>\n",
       "      <td>217.880280</td>\n",
       "    </tr>\n",
       "    <tr>\n",
       "      <th>min</th>\n",
       "      <td>1073.900024</td>\n",
       "    </tr>\n",
       "    <tr>\n",
       "      <th>25%</th>\n",
       "      <td>1249.000000</td>\n",
       "    </tr>\n",
       "    <tr>\n",
       "      <th>50%</th>\n",
       "      <td>1299.400024</td>\n",
       "    </tr>\n",
       "    <tr>\n",
       "      <th>75%</th>\n",
       "      <td>1482.649963</td>\n",
       "    </tr>\n",
       "    <tr>\n",
       "      <th>max</th>\n",
       "      <td>2051.500000</td>\n",
       "    </tr>\n",
       "  </tbody>\n",
       "</table>\n",
       "</div>"
      ],
      "text/plain": [
       "             Close\n",
       "count  1246.000000\n",
       "mean   1388.680578\n",
       "std     217.880280\n",
       "min    1073.900024\n",
       "25%    1249.000000\n",
       "50%    1299.400024\n",
       "75%    1482.649963\n",
       "max    2051.500000"
      ]
     },
     "execution_count": 6,
     "metadata": {
      "tags": []
     },
     "output_type": "execute_result"
    }
   ],
   "source": [
    "df.describe()"
   ]
  },
  {
   "cell_type": "markdown",
   "metadata": {
    "id": "PRnvAC7zpZyb"
   },
   "source": [
    "# Single Lag"
   ]
  },
  {
   "cell_type": "code",
   "execution_count": 7,
   "metadata": {
    "colab": {
     "base_uri": "https://localhost:8080/"
    },
    "id": "GwfsXTh_nZB9",
    "outputId": "f84452ac-8a51-490d-e762-f1db015648b3"
   },
   "outputs": [
    {
     "name": "stdout",
     "output_type": "stream",
     "text": [
      "             t          t+1\n",
      "0          NaN  1075.099976\n",
      "1  1075.099976  1078.400024\n",
      "2  1078.400024  1091.900024\n",
      "3  1091.900024  1107.699951\n",
      "4  1107.699951  1097.800049\n"
     ]
    }
   ],
   "source": [
    "var = pd.DataFrame(df.values)\n",
    "dataframe = pd.concat([var.shift(1), var], axis=1)\n",
    "dataframe.columns = ['t', 't+1']\n",
    "print(dataframe.head(5))"
   ]
  },
  {
   "cell_type": "code",
   "execution_count": 8,
   "metadata": {
    "colab": {
     "base_uri": "https://localhost:8080/"
    },
    "id": "Qu5LDhvCpY7W",
    "outputId": "96682db6-25e1-40e9-f18d-321e4ff79775"
   },
   "outputs": [
    {
     "name": "stdout",
     "output_type": "stream",
     "text": [
      "           t-2          t-1            t          t+1\n",
      "0          NaN          NaN          NaN  1075.099976\n",
      "1          NaN          NaN  1075.099976  1078.400024\n",
      "2          NaN  1075.099976  1078.400024  1091.900024\n",
      "3  1075.099976  1078.400024  1091.900024  1107.699951\n",
      "4  1078.400024  1091.900024  1107.699951  1097.800049\n"
     ]
    }
   ],
   "source": [
    "var = pd.DataFrame(df.values)\n",
    "dataframe = pd.concat([var.shift(3), var.shift(2), var.shift(1), var], axis=1)\n",
    "dataframe.columns = ['t-2', 't-1', 't', 't+1']\n",
    "print(dataframe.head(5))"
   ]
  },
  {
   "cell_type": "code",
   "execution_count": 9,
   "metadata": {
    "colab": {
     "base_uri": "https://localhost:8080/"
    },
    "id": "rL8fCiCbpo6H",
    "outputId": "332ed107-56eb-48ba-a774-0fe25a3ed514"
   },
   "outputs": [
    {
     "name": "stdout",
     "output_type": "stream",
     "text": [
      "   mean(t-1,t)          t+1\n",
      "0          NaN  1075.099976\n",
      "1          NaN  1078.400024\n",
      "2  1076.750000  1091.900024\n",
      "3  1085.150024  1107.699951\n",
      "4  1099.799988  1097.800049\n"
     ]
    }
   ],
   "source": [
    "var = pd.DataFrame(df.values)\n",
    "shifted = var.shift(1)\n",
    "window = shifted.rolling(window=2)\n",
    "means = window.mean()\n",
    "dataframe = pd.concat([means, var], axis=1)\n",
    "dataframe.columns = ['mean(t-1,t)', 't+1']\n",
    "print(dataframe.head(5))"
   ]
  },
  {
   "cell_type": "code",
   "execution_count": 10,
   "metadata": {
    "colab": {
     "base_uri": "https://localhost:8080/"
    },
    "id": "puv-foOxpuIK",
    "outputId": "cb3df813-cff1-41ff-e4e8-699b7fe89f3b"
   },
   "outputs": [
    {
     "name": "stdout",
     "output_type": "stream",
     "text": [
      "           min         mean          max          t+1\n",
      "0  1075.099976  1075.099976  1075.099976  1078.400024\n",
      "1  1075.099976  1076.750000  1078.400024  1091.900024\n",
      "2  1075.099976  1081.800008  1091.900024  1107.699951\n",
      "3  1075.099976  1088.274994  1107.699951  1097.800049\n",
      "4  1075.099976  1090.180005  1107.699951  1096.500000\n"
     ]
    }
   ],
   "source": [
    "var = pd.DataFrame(df.values)\n",
    "window = var.expanding()\n",
    "dataframe = pd.concat([window.min(), window.mean(), window.max(), var.shift(-1)], axis=1)\n",
    "dataframe.columns = ['min', 'mean', 'max', 't+1']\n",
    "print(dataframe.head(5))"
   ]
  },
  {
   "cell_type": "code",
   "execution_count": 11,
   "metadata": {
    "colab": {
     "base_uri": "https://localhost:8080/"
    },
    "id": "XhzI7lOvp5LE",
    "outputId": "bab025b0-2bcc-4a0f-d28e-edf0336f0381"
   },
   "outputs": [
    {
     "name": "stdout",
     "output_type": "stream",
     "text": [
      "   month  day                                              Close\n",
      "0      1    4  Date\n",
      "2016-01-04    1075.099976\n",
      "2016-01-05    1...\n",
      "1      1    5  Date\n",
      "2016-01-04    1075.099976\n",
      "2016-01-05    1...\n",
      "2      1    6  Date\n",
      "2016-01-04    1075.099976\n",
      "2016-01-05    1...\n",
      "3      1    7  Date\n",
      "2016-01-04    1075.099976\n",
      "2016-01-05    1...\n",
      "4      1    8  Date\n",
      "2016-01-04    1075.099976\n",
      "2016-01-05    1...\n"
     ]
    }
   ],
   "source": [
    "dataframe = pd.DataFrame()\n",
    "dataframe['month'] = [df.index[i].month for i in range(len(df))]\n",
    "dataframe['day'] = [df.index[i].day for i in range(len(df))]\n",
    "dataframe['Close'] = [df['Close'] for i in range(len(df))]\n",
    "print(dataframe.head(5))"
   ]
  },
  {
   "cell_type": "code",
   "execution_count": 12,
   "metadata": {
    "colab": {
     "base_uri": "https://localhost:8080/",
     "height": 335
    },
    "id": "4RoTbcFLqh4v",
    "outputId": "5903d2b1-ebec-4a11-dcc3-54af84d18ce5"
   },
   "outputs": [
    {
     "data": {
      "text/plain": [
       "<matplotlib.axes._subplots.AxesSubplot at 0x7f0a85a08f50>"
      ]
     },
     "execution_count": 12,
     "metadata": {
      "tags": []
     },
     "output_type": "execute_result"
    },
    {
     "data": {
      "image/png": "[encoded data removed]",
      "text/plain": [
       "<Figure size 1080x360 with 1 Axes>"
      ]
     },
     "metadata": {
      "needs_background": "light",
      "tags": []
     },
     "output_type": "display_data"
    }
   ],
   "source": [
    "\n",
    "df.plot(figsize=(15,5))\n"
   ]
  },
  {
   "cell_type": "code",
   "execution_count": 13,
   "metadata": {
    "colab": {
     "base_uri": "https://localhost:8080/",
     "height": 337
    },
    "id": "4AEniQF7qu1U",
    "outputId": "9fcd1d57-c9fc-4a42-f1d5-9a4b3cd35d03"
   },
   "outputs": [
    {
     "name": "stderr",
     "output_type": "stream",
     "text": [
      "/usr/local/lib/python3.7/dist-packages/seaborn/distributions.py:2557: FutureWarning: `distplot` is a deprecated function and will be removed in a future version. Please adapt your code to use either `displot` (a figure-level function with similar flexibility) or `histplot` (an axes-level function for histograms).\n",
      "  warnings.warn(msg, FutureWarning)\n"
     ]
    },
    {
     "data": {
      "text/plain": [
       "<matplotlib.axes._subplots.AxesSubplot at 0x7f0a84bdf590>"
      ]
     },
     "execution_count": 13,
     "metadata": {
      "tags": []
     },
     "output_type": "execute_result"
    },
    {
     "data": {
      "image/png": "[encoded data removed]",
      "text/plain": [
       "<Figure size 432x288 with 1 Axes>"
      ]
     },
     "metadata": {
      "needs_background": "light",
      "tags": []
     },
     "output_type": "display_data"
    }
   ],
   "source": [
    "import seaborn as sns\n",
    "sns.distplot(df, hist=True, kde=True,\n",
    "             bins=20,              \n",
    "             color = 'blue', \n",
    "             hist_kws={'edgecolor':'black'},\n",
    "             kde_kws={'linewidth': 2})\n"
   ]
  },
  {
   "cell_type": "code",
   "execution_count": 14,
   "metadata": {
    "colab": {
     "base_uri": "https://localhost:8080/",
     "height": 227
    },
    "id": "9BohYt_7rFix",
    "outputId": "f186ad3a-8add-4603-aa81-6b796b7f5d22"
   },
   "outputs": [
    {
     "data": {
      "text/html": [
       "<div>\n",
       "<style scoped>\n",
       "    .dataframe tbody tr th:only-of-type {\n",
       "        vertical-align: middle;\n",
       "    }\n",
       "\n",
       "    .dataframe tbody tr th {\n",
       "        vertical-align: top;\n",
       "    }\n",
       "\n",
       "    .dataframe thead th {\n",
       "        text-align: right;\n",
       "    }\n",
       "</style>\n",
       "<table border=\"1\" class=\"dataframe\">\n",
       "  <thead>\n",
       "    <tr style=\"text-align: right;\">\n",
       "      <th></th>\n",
       "      <th>Close</th>\n",
       "    </tr>\n",
       "    <tr>\n",
       "      <th>Date</th>\n",
       "      <th></th>\n",
       "    </tr>\n",
       "  </thead>\n",
       "  <tbody>\n",
       "    <tr>\n",
       "      <th>2016-01-04</th>\n",
       "      <td>1075.099976</td>\n",
       "    </tr>\n",
       "    <tr>\n",
       "      <th>2016-01-05</th>\n",
       "      <td>1078.400024</td>\n",
       "    </tr>\n",
       "    <tr>\n",
       "      <th>2016-01-06</th>\n",
       "      <td>1091.900024</td>\n",
       "    </tr>\n",
       "    <tr>\n",
       "      <th>2016-01-07</th>\n",
       "      <td>1107.699951</td>\n",
       "    </tr>\n",
       "    <tr>\n",
       "      <th>2016-01-08</th>\n",
       "      <td>1097.800049</td>\n",
       "    </tr>\n",
       "  </tbody>\n",
       "</table>\n",
       "</div>"
      ],
      "text/plain": [
       "                  Close\n",
       "Date                   \n",
       "2016-01-04  1075.099976\n",
       "2016-01-05  1078.400024\n",
       "2016-01-06  1091.900024\n",
       "2016-01-07  1107.699951\n",
       "2016-01-08  1097.800049"
      ]
     },
     "execution_count": 14,
     "metadata": {
      "tags": []
     },
     "output_type": "execute_result"
    }
   ],
   "source": [
    "df.head(\n",
    ")"
   ]
  },
  {
   "cell_type": "code",
   "execution_count": 16,
   "metadata": {
    "colab": {
     "base_uri": "https://localhost:8080/",
     "height": 278
    },
    "id": "nFDl9Yn7rVhG",
    "outputId": "063429ee-a732-4f27-c939-e4ba49620248"
   },
   "outputs": [
    {
     "data": {
      "image/png": "[encoded data removed]",
      "text/plain": [
       "<Figure size 432x288 with 1 Axes>"
      ]
     },
     "metadata": {
      "needs_background": "light",
      "tags": []
     },
     "output_type": "display_data"
    }
   ],
   "source": [
    "lag_plot(df)\n",
    "pyplot.show()"
   ]
  },
  {
   "cell_type": "code",
   "execution_count": 17,
   "metadata": {
    "colab": {
     "base_uri": "https://localhost:8080/",
     "height": 444
    },
    "id": "jHaHVUSJrf-U",
    "outputId": "3cf9126f-2e14-4b30-8a51-796503f4b4f2"
   },
   "outputs": [
    {
     "data": {
      "image/png": "[encoded data removed]",
      "text/plain": [
       "<Figure size 1080x504 with 8 Axes>"
      ]
     },
     "metadata": {
      "needs_background": "light",
      "tags": []
     },
     "output_type": "display_data"
    }
   ],
   "source": [
    "values = pd.DataFrame(df.values)\n",
    "lags = 8\n",
    "columns = [values]\n",
    "for i in range(1,(lags + 1)):\n",
    "    columns.append(values.shift(i))\n",
    "dataframe = pd.concat(columns, axis=1)\n",
    "columns = ['t']\n",
    "for i in range(1,(lags + 1)):\n",
    "    columns.append('t-' + str(i))\n",
    "dataframe.columns = columns\n",
    "pyplot.figure(1,figsize=(15,7))\n",
    "for i in range(1,(lags + 1)):\n",
    "    ax = pyplot.subplot(240 + i)\n",
    "    ax.set_title('t vs t-' + str(i))\n",
    "    pyplot.scatter(x=dataframe['t'].values, y=dataframe['t-'+str(i)].values)\n",
    "pyplot.show()"
   ]
  },
  {
   "cell_type": "code",
   "execution_count": 18,
   "metadata": {
    "colab": {
     "base_uri": "https://localhost:8080/",
     "height": 301
    },
    "id": "Gfwyld8rrrJE",
    "outputId": "b620faef-c566-49ee-b47d-7f598fffe2a9"
   },
   "outputs": [
    {
     "data": {
      "text/plain": [
       "<matplotlib.axes._subplots.AxesSubplot at 0x7f0a81a2b810>"
      ]
     },
     "execution_count": 18,
     "metadata": {
      "tags": []
     },
     "output_type": "execute_result"
    },
    {
     "data": {
      "image/png": "[encoded data removed]",
      "text/plain": [
       "<Figure size 432x288 with 1 Axes>"
      ]
     },
     "metadata": {
      "needs_background": "light",
      "tags": []
     },
     "output_type": "display_data"
    }
   ],
   "source": [
    "autocorrelation_plot(df)"
   ]
  },
  {
   "cell_type": "code",
   "execution_count": 19,
   "metadata": {
    "id": "P86BBu3mTslN"
   },
   "outputs": [],
   "source": [
    "df=df.fillna(df.mean())"
   ]
  },
  {
   "cell_type": "code",
   "execution_count": 23,
   "metadata": {
    "colab": {
     "base_uri": "https://localhost:8080/",
     "height": 296
    },
    "id": "v7a1b8w0r2Ud",
    "outputId": "aca3d8de-1e65-48cb-b03e-75dfac3de5a4"
   },
   "outputs": [
    {
     "data": {
      "text/plain": [
       "<matplotlib.axes._subplots.AxesSubplot at 0x7f0a78f6e9d0>"
      ]
     },
     "execution_count": 23,
     "metadata": {
      "tags": []
     },
     "output_type": "execute_result"
    },
    {
     "data": {
      "image/png": "[encoded data removed]",
      "text/plain": [
       "<Figure size 432x288 with 1 Axes>"
      ]
     },
     "metadata": {
      "needs_background": "light",
      "tags": []
     },
     "output_type": "display_data"
    }
   ],
   "source": [
    "upsampled = df.resample('D').mean()\n",
    "interpolated = upsampled.interpolate(method='quadratic')\n",
    "interpolated.plot()"
   ]
  },
  {
   "cell_type": "code",
   "execution_count": 24,
   "metadata": {
    "colab": {
     "base_uri": "https://localhost:8080/"
    },
    "id": "VjLEAgU9S5L_",
    "outputId": "aa1571ad-ba35-4add-b2b9-09c8f1a68e9e"
   },
   "outputs": [
    {
     "name": "stdout",
     "output_type": "stream",
     "text": [
      "Collecting mxnet\n",
      "\u001b[?25l  Downloading https://files.pythonhosted.org/packages/30/07/66174e78c12a3048db9039aaa09553e35035ef3a008ba3e0ed8d2aa3c47b/mxnet-1.8.0.post0-py2.py3-none-manylinux2014_x86_64.whl (46.9MB)\n",
      "\u001b[K     |████████████████████████████████| 46.9MB 98kB/s \n",
      "\u001b[?25hCollecting graphviz<0.9.0,>=0.8.1\n",
      "  Downloading https://files.pythonhosted.org/packages/53/39/4ab213673844e0c004bed8a0781a0721a3f6bb23eb8854ee75c236428892/graphviz-0.8.4-py2.py3-none-any.whl\n",
      "Requirement already satisfied: requests<3,>=2.20.0 in /usr/local/lib/python3.7/dist-packages (from mxnet) (2.23.0)\n",
      "Requirement already satisfied: numpy<2.0.0,>1.16.0 in /usr/local/lib/python3.7/dist-packages (from mxnet) (1.19.5)\n",
      "Requirement already satisfied: urllib3!=1.25.0,!=1.25.1,<1.26,>=1.21.1 in /usr/local/lib/python3.7/dist-packages (from requests<3,>=2.20.0->mxnet) (1.24.3)\n",
      "Requirement already satisfied: idna<3,>=2.5 in /usr/local/lib/python3.7/dist-packages (from requests<3,>=2.20.0->mxnet) (2.10)\n",
      "Requirement already satisfied: chardet<4,>=3.0.2 in /usr/local/lib/python3.7/dist-packages (from requests<3,>=2.20.0->mxnet) (3.0.4)\n",
      "Requirement already satisfied: certifi>=2017.4.17 in /usr/local/lib/python3.7/dist-packages (from requests<3,>=2.20.0->mxnet) (2020.12.5)\n",
      "Installing collected packages: graphviz, mxnet\n",
      "  Found existing installation: graphviz 0.10.1\n",
      "    Uninstalling graphviz-0.10.1:\n",
      "      Successfully uninstalled graphviz-0.10.1\n",
      "Successfully installed graphviz-0.8.4 mxnet-1.8.0.post0\n"
     ]
    }
   ],
   "source": [
    "pip install mxnet\n"
   ]
  },
  {
   "cell_type": "code",
   "execution_count": 25,
   "metadata": {
    "id": "4aPQmaCWSyaJ"
   },
   "outputs": [],
   "source": [
    "import time\n",
    "import numpy as np\n",
    "\n",
    "from mxnet import nd, autograd, gluon\n",
    "from mxnet.gluon import nn, rnn\n",
    "import mxnet as mx\n",
    "import datetime\n",
    "import seaborn as sns\n",
    "\n",
    "import matplotlib.pyplot as plt\n",
    "%matplotlib inline\n",
    "from sklearn.decomposition import PCA\n",
    "\n",
    "import math\n",
    "\n",
    "from sklearn.preprocessing import MinMaxScaler\n",
    "from sklearn.metrics import mean_squared_error\n",
    "from sklearn.preprocessing import StandardScaler\n",
    "\n",
    "import xgboost as xgb\n",
    "from sklearn.metrics import accuracy_score"
   ]
  },
  {
   "cell_type": "code",
   "execution_count": 26,
   "metadata": {
    "colab": {
     "base_uri": "https://localhost:8080/",
     "height": 287
    },
    "id": "9BRhGbzYwRok",
    "outputId": "3f07a8c5-0f1a-4a4d-e50d-1d9255013361"
   },
   "outputs": [
    {
     "data": {
      "text/html": [
       "<div>\n",
       "<style scoped>\n",
       "    .dataframe tbody tr th:only-of-type {\n",
       "        vertical-align: middle;\n",
       "    }\n",
       "\n",
       "    .dataframe tbody tr th {\n",
       "        vertical-align: top;\n",
       "    }\n",
       "\n",
       "    .dataframe thead th {\n",
       "        text-align: right;\n",
       "    }\n",
       "</style>\n",
       "<table border=\"1\" class=\"dataframe\">\n",
       "  <thead>\n",
       "    <tr style=\"text-align: right;\">\n",
       "      <th></th>\n",
       "      <th>Close</th>\n",
       "    </tr>\n",
       "  </thead>\n",
       "  <tbody>\n",
       "    <tr>\n",
       "      <th>count</th>\n",
       "      <td>1259.000000</td>\n",
       "    </tr>\n",
       "    <tr>\n",
       "      <th>mean</th>\n",
       "      <td>1388.680578</td>\n",
       "    </tr>\n",
       "    <tr>\n",
       "      <th>std</th>\n",
       "      <td>216.751584</td>\n",
       "    </tr>\n",
       "    <tr>\n",
       "      <th>min</th>\n",
       "      <td>1073.900024</td>\n",
       "    </tr>\n",
       "    <tr>\n",
       "      <th>25%</th>\n",
       "      <td>1249.250000</td>\n",
       "    </tr>\n",
       "    <tr>\n",
       "      <th>50%</th>\n",
       "      <td>1301.500000</td>\n",
       "    </tr>\n",
       "    <tr>\n",
       "      <th>75%</th>\n",
       "      <td>1481.849976</td>\n",
       "    </tr>\n",
       "    <tr>\n",
       "      <th>max</th>\n",
       "      <td>2051.500000</td>\n",
       "    </tr>\n",
       "  </tbody>\n",
       "</table>\n",
       "</div>"
      ],
      "text/plain": [
       "             Close\n",
       "count  1259.000000\n",
       "mean   1388.680578\n",
       "std     216.751584\n",
       "min    1073.900024\n",
       "25%    1249.250000\n",
       "50%    1301.500000\n",
       "75%    1481.849976\n",
       "max    2051.500000"
      ]
     },
     "execution_count": 26,
     "metadata": {
      "tags": []
     },
     "output_type": "execute_result"
    }
   ],
   "source": [
    "df.describe()"
   ]
  },
  {
   "cell_type": "code",
   "execution_count": null,
   "metadata": {
    "id": "nFpydnZ7xtT_"
   },
   "outputs": [],
   "source": [
    "X_train, X_test, y_train, y_test = train_test_split(\n",
    "...     X, y, test_size=0.15, random_state=42)\n"
   ]
  },
  {
   "cell_type": "code",
   "execution_count": null,
   "metadata": {
    "id": "q1LvO28m6sVZ"
   },
   "outputs": [],
   "source": [
    "model = tf.keras.Sequential()"
   ]
  },
  {
   "cell_type": "code",
   "execution_count": null,
   "metadata": {
    "id": "iK92lhND6vFs"
   },
   "outputs": [],
   "source": [
    "model.add(tf.keras.layers.Conv1D(kernel_size=64,filters=3*3,strides=1,activation=\"relu\"))\n",
    "model.add(tf.keras.layers.MaxPooling1D(pool_size=2))"
   ]
  },
  {
   "cell_type": "code",
   "execution_count": null,
   "metadata": {
    "id": "HYkndc7c7Qhc"
   },
   "outputs": [],
   "source": [
    "model.summary()"
   ]
  },
  {
   "cell_type": "markdown",
   "metadata": {
    "id": "rmrVhdTlMxhx"
   },
   "source": [
    "# BUILDING MODEL \n",
    "\n",
    "## LSTM-GRU\n"
   ]
  },
  {
   "cell_type": "code",
   "execution_count": 66,
   "metadata": {
    "id": "hiTjga9OMxE_"
   },
   "outputs": [],
   "source": [
    "model = tf.keras.Sequential()\n",
    "model.add(tf.keras.layers.GRU(5,activation = 'relu', input_shape=(1,1)))\n",
    "model.add(Dense(100,activation='relu'))\n",
    "model.add(Dense(1))\n",
    "model.compile(loss='mse',optimizer='adam',metrics=['mae'])\n"
   ]
  },
  {
   "cell_type": "markdown",
   "metadata": {
    "id": "o9ZlHyST5TT7"
   },
   "source": [
    "## LSTM CNN Attention"
   ]
  },
  {
   "cell_type": "code",
   "execution_count": 31,
   "metadata": {
    "colab": {
     "base_uri": "https://localhost:8080/"
    },
    "collapsed": true,
    "id": "QFYHM_XsOxZQ",
    "outputId": "8a7681e4-23c6-4f72-b106-bc0b0bf8e975"
   },
   "outputs": [
    {
     "name": "stdout",
     "output_type": "stream",
     "text": [
      "Requirement already satisfied: keras-attention in /usr/local/lib/python3.7/dist-packages (1.0.0)\n",
      "Requirement already satisfied: keras in /usr/local/lib/python3.7/dist-packages (from keras-attention) (2.4.3)\n",
      "Requirement already satisfied: numpy>=1.9.1 in /usr/local/lib/python3.7/dist-packages (from keras->keras-attention) (1.19.5)\n",
      "Requirement already satisfied: scipy>=0.14 in /usr/local/lib/python3.7/dist-packages (from keras->keras-attention) (1.4.1)\n",
      "Requirement already satisfied: h5py in /usr/local/lib/python3.7/dist-packages (from keras->keras-attention) (2.10.0)\n",
      "Requirement already satisfied: pyyaml in /usr/local/lib/python3.7/dist-packages (from keras->keras-attention) (3.13)\n",
      "Requirement already satisfied: six in /usr/local/lib/python3.7/dist-packages (from h5py->keras->keras-attention) (1.15.0)\n",
      "Collecting keras-self-attention\n",
      "  Downloading https://files.pythonhosted.org/packages/c3/34/e21dc6adcdab2be03781bde78c6c5d2b2136d35a1dd3e692d7e160ba062a/keras-self-attention-0.49.0.tar.gz\n",
      "Requirement already satisfied: numpy in /usr/local/lib/python3.7/dist-packages (from keras-self-attention) (1.19.5)\n",
      "Requirement already satisfied: Keras in /usr/local/lib/python3.7/dist-packages (from keras-self-attention) (2.4.3)\n",
      "Requirement already satisfied: h5py in /usr/local/lib/python3.7/dist-packages (from Keras->keras-self-attention) (2.10.0)\n",
      "Requirement already satisfied: scipy>=0.14 in /usr/local/lib/python3.7/dist-packages (from Keras->keras-self-attention) (1.4.1)\n",
      "Requirement already satisfied: pyyaml in /usr/local/lib/python3.7/dist-packages (from Keras->keras-self-attention) (3.13)\n",
      "Requirement already satisfied: six in /usr/local/lib/python3.7/dist-packages (from h5py->Keras->keras-self-attention) (1.15.0)\n",
      "Building wheels for collected packages: keras-self-attention\n",
      "  Building wheel for keras-self-attention (setup.py) ... \u001b[?25l\u001b[?25hdone\n",
      "  Created wheel for keras-self-attention: filename=keras_self_attention-0.49.0-cp37-none-any.whl size=19468 sha256=08334fe68e10170a4bbd13359e0d4d4d6d9b2a891df99e311412a43047eb7aff\n",
      "  Stored in directory: /root/.cache/pip/wheels/6f/9d/c5/26693a5092d9313daeae94db04818fc0a2b7a48ea381989f34\n",
      "Successfully built keras-self-attention\n",
      "Installing collected packages: keras-self-attention\n",
      "Successfully installed keras-self-attention-0.49.0\n"
     ]
    }
   ],
   "source": [
    "!pip install keras-attention\n",
    "!pip install keras-self-attention"
   ]
  },
  {
   "cell_type": "code",
   "execution_count": 67,
   "metadata": {
    "id": "aciFxnch5no_"
   },
   "outputs": [],
   "source": [
    "import os\n",
    "import time\n",
    "import warnings\n",
    "import numpy as np\n",
    "import pandas as pd\n",
    "import operator\n",
    "from functools import reduce\n",
    "import h5py\n",
    "from numpy import newaxis\n",
    "from keras.layers.core import Dense, Activation, Dropout\n",
    "from keras.layers import Convolution1D, MaxPooling1D, Flatten,  Embedding,Bidirectional, GRU\n",
    "from keras.layers import Conv1D, GlobalMaxPooling1D, merge\n",
    "from keras.layers.recurrent import LSTM\n",
    "from keras.models import Sequential\n",
    "from keras_self_attention import SeqSelfAttention\n",
    "import matplotlib.pyplot as plt\n",
    "\n",
    "from sklearn.preprocessing import StandardScaler, Normalizer\n",
    "from sklearn.metrics import mean_squared_error, mean_absolute_error\n",
    "from math import sqrt\n"
   ]
  },
  {
   "cell_type": "code",
   "execution_count": 47,
   "metadata": {
    "id": "0AtdUtYRR4a2"
   },
   "outputs": [],
   "source": [
    "def create_dataset(dataset, look_back=1, columns = ['Close']):\n",
    "    dataX, dataY = [], []\n",
    "    for i in range(len(dataset.index)):\n",
    "        if i < look_back:\n",
    "            continue\n",
    "        a = None\n",
    "        for c in columns:\n",
    "            b = dataset.loc[dataset.index[i-look_back:i], c].to_numpy() \n",
    "            if a is None:\n",
    "                a = b\n",
    "            else:\n",
    "                a = np.append(a,b)\n",
    "        dataX.append(a)\n",
    "        dataY.append(dataset.loc[dataset.index[i-look_back], columns].to_numpy())\n",
    "    return np.array(dataX), np.array(dataY)"
   ]
  },
  {
   "cell_type": "code",
   "execution_count": 68,
   "metadata": {
    "colab": {
     "base_uri": "https://localhost:8080/",
     "height": 1000
    },
    "id": "6F_029-65SBZ",
    "outputId": "c2a6f3e9-45f6-4162-b303-26a9217094bc"
   },
   "outputs": [
    {
     "name": "stdout",
     "output_type": "stream",
     "text": [
      "Date\n",
      "2016-01-04   -1.447303e+00\n",
      "2016-01-05   -1.432072e+00\n",
      "2016-01-06   -1.369764e+00\n",
      "2016-01-07   -1.296841e+00\n",
      "2016-01-08   -1.342533e+00\n",
      "                  ...     \n",
      "2020-12-24   -8.203802e-15\n",
      "2020-12-28    2.254717e+00\n",
      "2020-12-29    2.266256e+00\n",
      "2020-12-30    2.318410e+00\n",
      "2020-12-31    2.328102e+00\n",
      "Name: Close, Length: 1259, dtype: float64\n",
      "Model: \"sequential_14\"\n",
      "_________________________________________________________________\n",
      "Layer (type)                 Output Shape              Param #   \n",
      "=================================================================\n",
      "gru_1 (GRU)                  (None, 7, 6)              162       \n",
      "_________________________________________________________________\n",
      "Attention (SeqSelfAttention) (None, None, 6)           449       \n",
      "_________________________________________________________________\n",
      "conv1d_6 (Conv1D)            (None, None, 64)          832       \n",
      "_________________________________________________________________\n",
      "max_pooling1d_5 (MaxPooling1 (None, None, 64)          0         \n",
      "_________________________________________________________________\n",
      "dropout_4 (Dropout)          (None, None, 64)          0         \n",
      "_________________________________________________________________\n",
      "activation_8 (Activation)    (None, None, 64)          0         \n",
      "_________________________________________________________________\n",
      "dense_6 (Dense)              (None, None, 1)           65        \n",
      "_________________________________________________________________\n",
      "activation_9 (Activation)    (None, None, 1)           0         \n",
      "=================================================================\n",
      "Total params: 1,508\n",
      "Trainable params: 1,508\n",
      "Non-trainable params: 0\n",
      "_________________________________________________________________\n",
      "None\n",
      "Epoch 1/100\n",
      "13/13 [==============================] - 3s 8ms/step - loss: 0.5087\n",
      "Epoch 2/100\n",
      "13/13 [==============================] - 0s 9ms/step - loss: 0.2243\n",
      "Epoch 3/100\n",
      "13/13 [==============================] - 0s 8ms/step - loss: 0.0800\n",
      "Epoch 4/100\n",
      "13/13 [==============================] - 0s 9ms/step - loss: 0.0439\n",
      "Epoch 5/100\n",
      "13/13 [==============================] - 0s 8ms/step - loss: 0.0343\n",
      "Epoch 6/100\n",
      "13/13 [==============================] - 0s 9ms/step - loss: 0.0306\n",
      "Epoch 7/100\n",
      "13/13 [==============================] - 0s 9ms/step - loss: 0.0317\n",
      "Epoch 8/100\n",
      "13/13 [==============================] - 0s 10ms/step - loss: 0.0299\n",
      "Epoch 9/100\n",
      "13/13 [==============================] - 0s 9ms/step - loss: 0.0266\n",
      "Epoch 10/100\n",
      "13/13 [==============================] - 0s 9ms/step - loss: 0.0237\n",
      "Epoch 11/100\n",
      "13/13 [==============================] - 0s 9ms/step - loss: 0.0260\n",
      "Epoch 12/100\n",
      "13/13 [==============================] - 0s 9ms/step - loss: 0.0235\n",
      "Epoch 13/100\n",
      "13/13 [==============================] - 0s 8ms/step - loss: 0.0232\n",
      "Epoch 14/100\n",
      "13/13 [==============================] - 0s 8ms/step - loss: 0.0227\n",
      "Epoch 15/100\n",
      "13/13 [==============================] - 0s 9ms/step - loss: 0.0229\n",
      "Epoch 16/100\n",
      "13/13 [==============================] - 0s 10ms/step - loss: 0.0233\n",
      "Epoch 17/100\n",
      "13/13 [==============================] - 0s 9ms/step - loss: 0.0213\n",
      "Epoch 18/100\n",
      "13/13 [==============================] - 0s 9ms/step - loss: 0.0227\n",
      "Epoch 19/100\n",
      "13/13 [==============================] - 0s 9ms/step - loss: 0.0223\n",
      "Epoch 20/100\n",
      "13/13 [==============================] - 0s 8ms/step - loss: 0.0210\n",
      "Epoch 21/100\n",
      "13/13 [==============================] - 0s 9ms/step - loss: 0.0196\n",
      "Epoch 22/100\n",
      "13/13 [==============================] - 0s 10ms/step - loss: 0.0222\n",
      "Epoch 23/100\n",
      "13/13 [==============================] - 0s 9ms/step - loss: 0.0201\n",
      "Epoch 24/100\n",
      "13/13 [==============================] - 0s 9ms/step - loss: 0.0214\n",
      "Epoch 25/100\n",
      "13/13 [==============================] - 0s 9ms/step - loss: 0.0189\n",
      "Epoch 26/100\n",
      "13/13 [==============================] - 0s 8ms/step - loss: 0.0218\n",
      "Epoch 27/100\n",
      "13/13 [==============================] - 0s 8ms/step - loss: 0.0183\n",
      "Epoch 28/100\n",
      "13/13 [==============================] - 0s 10ms/step - loss: 0.0176\n",
      "Epoch 29/100\n",
      "13/13 [==============================] - 0s 9ms/step - loss: 0.0183\n",
      "Epoch 30/100\n",
      "13/13 [==============================] - 0s 9ms/step - loss: 0.0182\n",
      "Epoch 31/100\n",
      "13/13 [==============================] - 0s 9ms/step - loss: 0.0187\n",
      "Epoch 32/100\n",
      "13/13 [==============================] - 0s 11ms/step - loss: 0.0187\n",
      "Epoch 33/100\n",
      "13/13 [==============================] - 0s 9ms/step - loss: 0.0200\n",
      "Epoch 34/100\n",
      "13/13 [==============================] - 0s 9ms/step - loss: 0.0178\n",
      "Epoch 35/100\n",
      "13/13 [==============================] - 0s 9ms/step - loss: 0.0186\n",
      "Epoch 36/100\n",
      "13/13 [==============================] - 0s 10ms/step - loss: 0.0170\n",
      "Epoch 37/100\n",
      "13/13 [==============================] - 0s 9ms/step - loss: 0.0175\n",
      "Epoch 38/100\n",
      "13/13 [==============================] - 0s 8ms/step - loss: 0.0181\n",
      "Epoch 39/100\n",
      "13/13 [==============================] - 0s 9ms/step - loss: 0.0165\n",
      "Epoch 40/100\n",
      "13/13 [==============================] - 0s 10ms/step - loss: 0.0173\n",
      "Epoch 41/100\n",
      "13/13 [==============================] - 0s 9ms/step - loss: 0.0176\n",
      "Epoch 42/100\n",
      "13/13 [==============================] - 0s 9ms/step - loss: 0.0168\n",
      "Epoch 43/100\n",
      "13/13 [==============================] - 0s 8ms/step - loss: 0.0157\n",
      "Epoch 44/100\n",
      "13/13 [==============================] - 0s 9ms/step - loss: 0.0165\n",
      "Epoch 45/100\n",
      "13/13 [==============================] - 0s 9ms/step - loss: 0.0166\n",
      "Epoch 46/100\n",
      "13/13 [==============================] - 0s 10ms/step - loss: 0.0152\n",
      "Epoch 47/100\n",
      "13/13 [==============================] - 0s 8ms/step - loss: 0.0152\n",
      "Epoch 48/100\n",
      "13/13 [==============================] - 0s 9ms/step - loss: 0.0152\n",
      "Epoch 49/100\n",
      "13/13 [==============================] - 0s 9ms/step - loss: 0.0145\n",
      "Epoch 50/100\n",
      "13/13 [==============================] - 0s 9ms/step - loss: 0.0136\n",
      "Epoch 51/100\n",
      "13/13 [==============================] - 0s 9ms/step - loss: 0.0156\n",
      "Epoch 52/100\n",
      "13/13 [==============================] - 0s 9ms/step - loss: 0.0141\n",
      "Epoch 53/100\n",
      "13/13 [==============================] - 0s 9ms/step - loss: 0.0153\n",
      "Epoch 54/100\n",
      "13/13 [==============================] - 0s 8ms/step - loss: 0.0146\n",
      "Epoch 55/100\n",
      "13/13 [==============================] - 0s 8ms/step - loss: 0.0160\n",
      "Epoch 56/100\n",
      "13/13 [==============================] - 0s 10ms/step - loss: 0.0144\n",
      "Epoch 57/100\n",
      "13/13 [==============================] - 0s 10ms/step - loss: 0.0134\n",
      "Epoch 58/100\n",
      "13/13 [==============================] - 0s 9ms/step - loss: 0.0143\n",
      "Epoch 59/100\n",
      "13/13 [==============================] - 0s 9ms/step - loss: 0.0145\n",
      "Epoch 60/100\n",
      "13/13 [==============================] - 0s 8ms/step - loss: 0.0129\n",
      "Epoch 61/100\n",
      "13/13 [==============================] - 0s 9ms/step - loss: 0.0154\n",
      "Epoch 62/100\n",
      "13/13 [==============================] - 0s 9ms/step - loss: 0.0144\n",
      "Epoch 63/100\n",
      "13/13 [==============================] - 0s 8ms/step - loss: 0.0143\n",
      "Epoch 64/100\n",
      "13/13 [==============================] - 0s 8ms/step - loss: 0.0144\n",
      "Epoch 65/100\n",
      "13/13 [==============================] - 0s 10ms/step - loss: 0.0136\n",
      "Epoch 66/100\n",
      "13/13 [==============================] - 0s 9ms/step - loss: 0.0130\n",
      "Epoch 67/100\n",
      "13/13 [==============================] - 0s 10ms/step - loss: 0.0132\n",
      "Epoch 68/100\n",
      "13/13 [==============================] - 0s 9ms/step - loss: 0.0136\n",
      "Epoch 69/100\n",
      "13/13 [==============================] - 0s 9ms/step - loss: 0.0131\n",
      "Epoch 70/100\n",
      "13/13 [==============================] - 0s 8ms/step - loss: 0.0131\n",
      "Epoch 71/100\n",
      "13/13 [==============================] - 0s 9ms/step - loss: 0.0131\n",
      "Epoch 72/100\n",
      "13/13 [==============================] - 0s 10ms/step - loss: 0.0136\n",
      "Epoch 73/100\n",
      "13/13 [==============================] - 0s 9ms/step - loss: 0.0125\n",
      "Epoch 74/100\n",
      "13/13 [==============================] - 0s 9ms/step - loss: 0.0131\n",
      "Epoch 75/100\n",
      "13/13 [==============================] - 0s 9ms/step - loss: 0.0126\n",
      "Epoch 76/100\n",
      "13/13 [==============================] - 0s 9ms/step - loss: 0.0132\n",
      "Epoch 77/100\n",
      "13/13 [==============================] - 0s 9ms/step - loss: 0.0134\n",
      "Epoch 78/100\n",
      "13/13 [==============================] - 0s 10ms/step - loss: 0.0122\n",
      "Epoch 79/100\n",
      "13/13 [==============================] - 0s 10ms/step - loss: 0.0128\n",
      "Epoch 80/100\n",
      "13/13 [==============================] - 0s 9ms/step - loss: 0.0130\n",
      "Epoch 81/100\n",
      "13/13 [==============================] - 0s 9ms/step - loss: 0.0141\n",
      "Epoch 82/100\n",
      "13/13 [==============================] - 0s 9ms/step - loss: 0.0137\n",
      "Epoch 83/100\n",
      "13/13 [==============================] - 0s 9ms/step - loss: 0.0136\n",
      "Epoch 84/100\n",
      "13/13 [==============================] - 0s 8ms/step - loss: 0.0151\n",
      "Epoch 85/100\n",
      "13/13 [==============================] - 0s 9ms/step - loss: 0.0135\n",
      "Epoch 86/100\n",
      "13/13 [==============================] - 0s 9ms/step - loss: 0.0131\n",
      "Epoch 87/100\n",
      "13/13 [==============================] - 0s 9ms/step - loss: 0.0127\n",
      "Epoch 88/100\n",
      "13/13 [==============================] - 0s 9ms/step - loss: 0.0123\n",
      "Epoch 89/100\n",
      "13/13 [==============================] - 0s 9ms/step - loss: 0.0136\n",
      "Epoch 90/100\n",
      "13/13 [==============================] - 0s 9ms/step - loss: 0.0133\n",
      "Epoch 91/100\n",
      "13/13 [==============================] - 0s 8ms/step - loss: 0.0128\n",
      "Epoch 92/100\n",
      "13/13 [==============================] - 0s 9ms/step - loss: 0.0128\n",
      "Epoch 93/100\n",
      "13/13 [==============================] - 0s 9ms/step - loss: 0.0133\n",
      "Epoch 94/100\n",
      "13/13 [==============================] - 0s 9ms/step - loss: 0.0116\n",
      "Epoch 95/100\n",
      "13/13 [==============================] - 0s 9ms/step - loss: 0.0122\n",
      "Epoch 96/100\n",
      "13/13 [==============================] - 0s 9ms/step - loss: 0.0127\n",
      "Epoch 97/100\n",
      "13/13 [==============================] - 0s 9ms/step - loss: 0.0125\n",
      "Epoch 98/100\n",
      "13/13 [==============================] - 0s 10ms/step - loss: 0.0125\n",
      "Epoch 99/100\n",
      "13/13 [==============================] - 0s 10ms/step - loss: 0.0128\n",
      "Epoch 100/100\n",
      "13/13 [==============================] - 0s 9ms/step - loss: 0.0119\n"
     ]
    },
    {
     "name": "stderr",
     "output_type": "stream",
     "text": [
      "The PostScript backend does not support transparency; partially transparent artists will be rendered opaque.\n",
      "The PostScript backend does not support transparency; partially transparent artists will be rendered opaque.\n"
     ]
    },
    {
     "name": "stdout",
     "output_type": "stream",
     "text": [
      "The RMSE is  7.236283e-01\n",
      "The RMAE is  7.819518e-01\n",
      "The MAPE is  1.353704e+14\n"
     ]
    },
    {
     "data": {
      "image/png": "[encoded data removed]",
      "text/plain": [
       "<Figure size 432x288 with 1 Axes>"
      ]
     },
     "metadata": {
      "needs_background": "light",
      "tags": []
     },
     "output_type": "display_data"
    }
   ],
   "source": [
    "look_back = 7 # 10, 13\n",
    "sc = StandardScaler()  \n",
    "df.loc[:, 'Close'] = sc.fit_transform(df.Close.values.reshape(-1,1)) # fit.transform()\n",
    "print(df.loc[:, 'Close'])\n",
    "\n",
    "# Create training data\n",
    "#train_df = df.loc[df.index < pd.to_datetime('2010-01-01')]\n",
    "train_df = df.loc[df.index < df.index[int(len(df.index)*0.8)]]\n",
    "train_x, train_y = create_dataset(train_df, look_back=look_back)\n",
    "\n",
    "\n",
    "# Construct the whole LSTM + CNN\n",
    "model = Sequential()\n",
    "# LSTM\n",
    "model.add(GRU(6,input_shape = (look_back, 1), input_dim=1 ,   return_sequences=True))\n",
    "\n",
    "#model.add(LSTM(input_shape = (look_back,1), input_dim=1, output_dim=6, return_sequences=True))\n",
    "#model.add(Dense(1))\n",
    "#model.add(Activation('relu')) # ReLU : y = max(0,x)\n",
    "\n",
    "# Attention Mechanism\n",
    "model.add(SeqSelfAttention(attention_activation='sigmoid', name='Attention'))\n",
    "\n",
    "# CNN\n",
    "model.add(Convolution1D(input_shape = (look_back,1),\n",
    "                        filters=64,# 32,128\n",
    "                       kernel_size=2,\n",
    "                       activation='relu',\n",
    "                        ))\n",
    "#model.add(MaxPooling1D(pool_length=2)) \n",
    "\n",
    "'''model.add(Convolution1D(input_shape = (look_back,1),\n",
    "                        nb_filter=64,\n",
    "                        filter_length=2,\n",
    "                        border_mode='valid',\n",
    "                        activation='relu',\n",
    "                        subsample_length=1))'''\n",
    "model.add(MaxPooling1D(pool_size=(2)))\n",
    "\n",
    "model.add(Dropout(0.25))\n",
    "\n",
    "#model.add(Dense(250)) \n",
    "#model.add(Dropout(0.25,input_shape=(2,)))\n",
    "model.add(Activation('relu')) # ReLU : y = max(0,x)\n",
    "model.add(Dense(1))\n",
    "model.add(Activation('linear')) # Linear : y = x\n",
    "\n",
    "# Print whole structure of the model\n",
    "print(model.summary())\n",
    "\n",
    "# training the train data with n epoch\n",
    "model.compile(loss=\"mse\", optimizer=\"adam\") # adam, rmsprop\n",
    "result = model.fit(np.atleast_3d(np.array(train_x)),\n",
    "          np.atleast_3d(train_y),\n",
    "          epochs=100,\n",
    "          batch_size=80, verbose=1, shuffle=False)\n",
    "\n",
    "\n",
    "with open('data_lstm_attention_cnn_palladium.txt','w') as f:\n",
    "    f.write(str(result.history))\n",
    "\n",
    "model.save('lstm_attention_cnn_palladium.h5')\n",
    "\n",
    "\n",
    "# Make prediction and specify on the line chart\n",
    "predictors = ['Close']\n",
    "df['Pred'] = df.loc[df.index[0], 'Close']\n",
    "for i in range(len(df.index)):\n",
    "    if i < look_back:\n",
    "        continue\n",
    "    a = None\n",
    "    for c in predictors:\n",
    "        b = df.loc[df.index[i-look_back:i], c].to_numpy()\n",
    "        if a is None:\n",
    "            a = b\n",
    "        else:\n",
    "            a = np.append(a,b)\n",
    "        a = a\n",
    "    y = model.predict(a.reshape(1,look_back*len(predictors),1)) \n",
    "    df.loc[df.index[i], 'Pred']=y[0][0]\n",
    "\n",
    "df.loc[:, 'Close'] = sc.inverse_transform(df.loc[:, 'Close']) \n",
    "df.loc[:, 'Pred'] = sc.inverse_transform(df.loc[:, 'Pred'])\n",
    "\n",
    "def mape(y_true, y_pred):\n",
    "    n = len(y_true)\n",
    "    mape = sum(np.abs((y_true - y_pred) / y_true)) / n * 100\n",
    "    return mape\n",
    "\n",
    "# present the line chart and some parameters like MSE, which reflects the accuracy of the model in sample or out sample\n",
    "plt.grid(ls='--')\n",
    "plt.plot(df.loc[df.index < df.index[int(len(df.index)*0.8)], 'Pred'], 'orange', label = 'Insample Prediction')\n",
    "plt.plot(df.loc[df.index >= df.index[int(len(df.index)*0.8)], 'Pred'], 'g', label = 'Outsample Prediction')\n",
    "plt.plot(df.Close ,'b', label = 'Price')\n",
    "plt.xlabel('Date')\n",
    "plt.ylabel('Closing Price')\n",
    "#print('%e'%mean_squared_error(df.loc[df.index < pd.to_datetime('2010-01-01'),'Close'],df.loc[df.index < pd.to_datetime('2010-01-01'),'Pred']))\n",
    "#print('%e'%mean_squared_error(df.loc[df.index >= pd.to_datetime('2010-01-01'),'Close'],df.loc[df.index >= pd.to_datetime('2010-01-01'),'Pred']))\n",
    "print('The RMSE is ','%e'%sqrt(mean_squared_error(df.loc[df.index >= df.index[int(len(df.index)*0.8)], 'Close'], df.loc[df.index >= df.index[int(len(df.index)*0.8)], 'Pred'])))\n",
    "print('The RMAE is ','%e'%sqrt(mean_absolute_error(df.loc[df.index >= df.index[int(len(df.index)*0.8)], 'Close'], df.loc[df.index >= df.index[int(len(df.index)*0.8)], 'Pred'])))\n",
    "print('The MAPE is ','%e'%mape(df.loc[df.index >= df.index[int(len(df.index)*0.8)], 'Close'], df.loc[df.index >= df.index[int(len(df.index)*0.8)], 'Pred']))\n",
    "\n",
    "plt.legend()\n",
    "plt.savefig(\"lstm_attention_cnn_palladium.eps\", format='eps', dpi=1000)\n",
    "plt.show()\n"
   ]
  },
  {
   "cell_type": "code",
   "execution_count": 69,
   "metadata": {
    "colab": {
     "base_uri": "https://localhost:8080/",
     "height": 314
    },
    "id": "fGwYwHnmPJYr",
    "outputId": "f234929e-8137-4b03-dd8e-00725007fd23"
   },
   "outputs": [
    {
     "name": "stderr",
     "output_type": "stream",
     "text": [
      "The PostScript backend does not support transparency; partially transparent artists will be rendered opaque.\n",
      "The PostScript backend does not support transparency; partially transparent artists will be rendered opaque.\n"
     ]
    },
    {
     "data": {
      "image/png": "[encoded data removed]",
      "text/plain": [
       "<Figure size 432x288 with 1 Axes>"
      ]
     },
     "metadata": {
      "needs_background": "light",
      "tags": []
     },
     "output_type": "display_data"
    }
   ],
   "source": [
    "\n",
    "# sketch loss\n",
    "#plt.cla() # clear the axis\n",
    "plt.grid(ls='--')\n",
    "plt.plot(result.epoch,result.history['loss'],label='LOSS',c='r',lw=3)\n",
    "#plt.scatter(result.epoch,result.history['loss'],s=15,c='r')\n",
    "plt.xlabel('Number of Epochs')\n",
    "plt.ylabel('Loss')\n",
    "plt.legend(loc='upper right', frameon=True, edgecolor='black')\n",
    "plt.savefig(\"LC_loss.eps\", format='eps', dpi=1000)\n",
    "plt. close(0)\n"
   ]
  },
  {
   "cell_type": "code",
   "execution_count": 69,
   "metadata": {
    "id": "wOYOs7ngWVKw"
   },
   "outputs": [],
   "source": []
  }
 ],
 "metadata": {
  "colab": {
   "name": "Metal_Options.ipynb",
   "provenance": []
  },
  "kernelspec": {
   "display_name": "Python 3",
   "language": "python",
   "name": "python3"
  },
  "language_info": {
   "codemirror_mode": {
    "name": "ipython",
    "version": 3
   },
   "file_extension": ".py",
   "mimetype": "text/x-python",
   "name": "python",
   "nbconvert_exporter": "python",
   "pygments_lexer": "ipython3",
   "version": "3.9.2"
  }
 },
 "nbformat": 4,
 "nbformat_minor": 1
}
